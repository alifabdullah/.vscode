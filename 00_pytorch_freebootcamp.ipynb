{
  "nbformat": 4,
  "nbformat_minor": 0,
  "metadata": {
    "colab": {
      "provenance": [],
      "gpuType": "T4",
      "include_colab_link": true
    },
    "kernelspec": {
      "name": "python3",
      "display_name": "Python 3"
    },
    "language_info": {
      "name": "python"
    },
    "accelerator": "GPU"
  },
  "cells": [
    {
      "cell_type": "markdown",
      "metadata": {
        "id": "view-in-github",
        "colab_type": "text"
      },
      "source": [
        "<a href=\"https://colab.research.google.com/github/alifabdullah/.vscode/blob/main/00_pytorch_freebootcamp.ipynb\" target=\"_parent\"><img src=\"https://colab.research.google.com/assets/colab-badge.svg\" alt=\"Open In Colab\"/></a>"
      ]
    },
    {
      "cell_type": "markdown",
      "source": [
        "##00.pytorch\n",
        "recource: https://www.learnpytorch.io/00_pytorch_fundamentals/\n"
      ],
      "metadata": {
        "id": "UVMcvGONuXcX"
      }
    },
    {
      "cell_type": "code",
      "execution_count": null,
      "metadata": {
        "colab": {
          "base_uri": "https://localhost:8080/"
        },
        "id": "_7y01DzoNB-I",
        "outputId": "1bf799b3-4b3b-4361-f61f-84b79062f20c"
      },
      "outputs": [
        {
          "output_type": "stream",
          "name": "stdout",
          "text": [
            "<module 'torch.version' from '/usr/local/lib/python3.12/dist-packages/torch/version.py'>\n"
          ]
        }
      ],
      "source": [
        "import torch\n",
        "print(torch.version)"
      ]
    },
    {
      "cell_type": "code",
      "source": [
        "import pandas as pd\n",
        "import numpy as np\n",
        "import matplotlib.pyplot as plt\n",
        "print(torch.__version__)"
      ],
      "metadata": {
        "colab": {
          "base_uri": "https://localhost:8080/"
        },
        "id": "gdAugk0quulN",
        "outputId": "9d3e9657-e00d-4e08-ebcc-23076e0707bf"
      },
      "execution_count": null,
      "outputs": [
        {
          "output_type": "stream",
          "name": "stdout",
          "text": [
            "2.8.0+cu126\n"
          ]
        }
      ]
    },
    {
      "cell_type": "markdown",
      "source": [
        "**torch.Tensor**\n",
        "\n",
        "Doc : https://docs.pytorch.org/docs/stable/tensors.html#torch.Tensor\n"
      ],
      "metadata": {
        "id": "5u9eABOJ8rc3"
      }
    },
    {
      "cell_type": "markdown",
      "source": [],
      "metadata": {
        "id": "tWT1l-hs8qQ0"
      }
    },
    {
      "cell_type": "code",
      "source": [
        "scalar = torch.Tensor(1)\n",
        "scalar"
      ],
      "metadata": {
        "colab": {
          "base_uri": "https://localhost:8080/"
        },
        "id": "TFnqsnje7rEl",
        "outputId": "53dbac4c-080d-4b97-8e80-ec1e37f47eae"
      },
      "execution_count": null,
      "outputs": [
        {
          "output_type": "execute_result",
          "data": {
            "text/plain": [
              "tensor([2.8223e+31])"
            ]
          },
          "metadata": {},
          "execution_count": 69
        }
      ]
    },
    {
      "cell_type": "code",
      "source": [
        "#dimension of the tensor\n",
        "scalar.ndim"
      ],
      "metadata": {
        "colab": {
          "base_uri": "https://localhost:8080/"
        },
        "id": "4poUbQ749g5j",
        "outputId": "eedc8b27-27d4-4271-c12d-e241fef3b49a"
      },
      "execution_count": null,
      "outputs": [
        {
          "output_type": "execute_result",
          "data": {
            "text/plain": [
              "1"
            ]
          },
          "metadata": {},
          "execution_count": 70
        }
      ]
    },
    {
      "cell_type": "code",
      "source": [
        "#get tensor into INT\n",
        "item = scalar.item()\n",
        "item\n"
      ],
      "metadata": {
        "colab": {
          "base_uri": "https://localhost:8080/"
        },
        "id": "IWC8Pwdu9gOm",
        "outputId": "815934fc-8124-49d6-e525-793121857970"
      },
      "execution_count": null,
      "outputs": [
        {
          "output_type": "execute_result",
          "data": {
            "text/plain": [
              "2.822340809940511e+31"
            ]
          },
          "metadata": {},
          "execution_count": 71
        }
      ]
    },
    {
      "cell_type": "code",
      "source": [
        "#Vector or 2 value magnitude and direction\n",
        "vector = torch.Tensor([1,2])\n",
        "vector"
      ],
      "metadata": {
        "colab": {
          "base_uri": "https://localhost:8080/"
        },
        "id": "SLybKM-r_G9_",
        "outputId": "e668f855-c76c-47ba-9104-ff3017c29f9e"
      },
      "execution_count": null,
      "outputs": [
        {
          "output_type": "execute_result",
          "data": {
            "text/plain": [
              "tensor([1., 2.])"
            ]
          },
          "metadata": {},
          "execution_count": 72
        }
      ]
    },
    {
      "cell_type": "code",
      "source": [
        "vector.ndim"
      ],
      "metadata": {
        "colab": {
          "base_uri": "https://localhost:8080/"
        },
        "id": "4EDv899J_X5s",
        "outputId": "3de31d2b-922f-4afb-87da-ee2d428bac0c"
      },
      "execution_count": null,
      "outputs": [
        {
          "output_type": "execute_result",
          "data": {
            "text/plain": [
              "1"
            ]
          },
          "metadata": {},
          "execution_count": 73
        }
      ]
    },
    {
      "cell_type": "markdown",
      "source": [
        "![image.png](data:image/png;base64,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)"
      ],
      "metadata": {
        "id": "0E-ISuRr_6Rg"
      }
    },
    {
      "cell_type": "code",
      "source": [
        "vector.shape"
      ],
      "metadata": {
        "colab": {
          "base_uri": "https://localhost:8080/"
        },
        "id": "jnhmeMjZ_sh8",
        "outputId": "549ae024-7a9b-4193-bc30-749fe7d15111"
      },
      "execution_count": null,
      "outputs": [
        {
          "output_type": "execute_result",
          "data": {
            "text/plain": [
              "torch.Size([2])"
            ]
          },
          "metadata": {},
          "execution_count": 74
        }
      ]
    },
    {
      "cell_type": "code",
      "source": [
        "#Matrix\n",
        "#just remember the number of []\n",
        "matrix = torch.Tensor([[1,2],[3,4]])\n",
        "matrix\n"
      ],
      "metadata": {
        "colab": {
          "base_uri": "https://localhost:8080/"
        },
        "id": "IJrscGM9BrJ2",
        "outputId": "35bb08cc-90d4-4139-8bc7-eaed5360d21f"
      },
      "execution_count": null,
      "outputs": [
        {
          "output_type": "execute_result",
          "data": {
            "text/plain": [
              "tensor([[1., 2.],\n",
              "        [3., 4.]])"
            ]
          },
          "metadata": {},
          "execution_count": 75
        }
      ]
    },
    {
      "cell_type": "code",
      "source": [
        "matrix.shape"
      ],
      "metadata": {
        "colab": {
          "base_uri": "https://localhost:8080/"
        },
        "id": "03D-Q62YB9bc",
        "outputId": "14810795-f0c1-4811-b67b-563516797cc4"
      },
      "execution_count": null,
      "outputs": [
        {
          "output_type": "execute_result",
          "data": {
            "text/plain": [
              "torch.Size([2, 2])"
            ]
          },
          "metadata": {},
          "execution_count": 76
        }
      ]
    },
    {
      "cell_type": "code",
      "source": [
        "#Tensor\n",
        "Tensor = torch.Tensor([[[1,2],[3,4]],[[5,6],[7,8]]])\n",
        "Tensor"
      ],
      "metadata": {
        "colab": {
          "base_uri": "https://localhost:8080/"
        },
        "id": "HBsg8OVHCI-G",
        "outputId": "7651d755-09f3-414b-f03b-ab6b88cb9b9e"
      },
      "execution_count": null,
      "outputs": [
        {
          "output_type": "execute_result",
          "data": {
            "text/plain": [
              "tensor([[[1., 2.],\n",
              "         [3., 4.]],\n",
              "\n",
              "        [[5., 6.],\n",
              "         [7., 8.]]])"
            ]
          },
          "metadata": {},
          "execution_count": 77
        }
      ]
    },
    {
      "cell_type": "markdown",
      "source": [
        "![Screenshot 2025-09-03 at 02-13-04 00. PyTorch Fundamentals - Zero to Mastery Learn PyTorch for Deep Learning.png](data:image/png;base64,iVBORw0KGgoAAAANSUhEUgAAAvcAAAFSCAYAAAB2RvB7AAAgAElEQVR4XuydCbiNVfuHH6kMadBAqRCNiiSikillCA2UUpQGpVSiiMxkqiRkqgwpQ0maREKmkoiipIQPUVGa0Mi/+/m+9/y37ex9ztn7HGef7beu61yHvd+13rXutd61fs+znvWeXHv+TRZH2rVrl23fvt3++uuvOEpRVhEQAREQAREQAREQAREQgUMOOcQKFixo+fLliwlGrnjF/aZNm6xw4cJGRZREQAREQAREQAREQAREQARiJ4DDfOvWrVakSJGYColb3P/nP/+xYsWKxXRzZRIBERABERABERABERABEdibQDz6WuJeo0kEREAEREAEREAEREAEEoiAxH0CdYaqIgIiIAIiIAIiIAIiIALxEJC4j4ee8oqACIiACIiACIiACIhAAhGQuE+gzlBVREAEREAEREAEREAERCAeAhL38dBTXhEQAREQAREQAREQARFIIAIS9wnUGaqKCIiACIiACIiACIiACMRDQOI+HnrKKwIiIAIiIAIiIAIiIAIJREDiPoE6Q1URAREQAREQAREQAREQgXgISNzHQ095RUAEREAEREAEREAERCCBCEjcJ1BnqCoiIAIiIAIiIAIiIAIiEA8Bift46CmvCIiACIiACIiACIiACCQQAYn7BOoMVUUEREAEREAEREAEREAE4iEgcR8PPeUVAREQAREQAREQAREQgQQiIHGfQJ2hqoiACIiACIiACIiACIhAPAQk7uOhp7w5msDWrVutYsWKVqNGDXv22WczrS2TJ0+2bt262dChQ61KlSrpKjeWPOkqWBeJwAFCYPbs2Xb77bfb/fff7z/7K/3111/WsWNHe/vtt+3000+3KVOmRLz1O++8Y3fddZfXr06dOnbdddfZLbfcYq1bt95f1U31Pv/8849dfvnlVrhwYRs/fny21kU3FwERiJ9Ajhf3n3/+udWrV8+OOeYYe/fdd+3II490Kvfdd5+9+eab9sorr9h5550XPymVkCMI3H333TZ9+nRfaM844wybOXOm3XnnncbnDz74oO3evdvOPfdcK1iwoI+NWMX966+/buvWrXMxcdhhh+3FZs6cOTZw4EDr2bOnlSlTJl3cwvOEl//BBx/Yo48+amvWrPGx3qxZM2+XkggkMoHRo0f7c3DxxRfbuHHjUqp6wQUX2K+//mqrVq3KtOpnl7ifOHGii/vzzz/frr32WhfskVKouG/UqJGvU+S5/vrrM41DLAXt2bPHjY5jjz3W5xmlxCfA/M/6hs4pVapU4ldYNdyvBJJG3EPtxhtv9IVE4n6/jqGEutlzzz3ni9Njjz1mDRs2tN69e7tXHgMPMf/111/bZZddZg0aNLBHHnkkZnGPqEdMfPjhh3bcccdlOoPQ8vPly2cXXXSR5cqVy0X9tGnT3LCYNGmSVahQIdPvrQJFILMIBOKe8gYNGuSOGFIyiXvmG+YdjBeMmGgpVNzvz92FzOpPlZM4BCTuE6cvErEmSSXuDzroIN8SxVsa7rnHEzpkyBDbuHGjnXLKKda5c2e78MILLZhsGzdubKtXr7avvvrKatasaVdeeaX16dPHvvvuO8PD0qlTJ++/Tz/91Hr16mVffPGFnXTSSda+fXurWrVqIvbtAVmnjz/+2Pvr5ptvtq5du9rVV19tn3zyieXJk8d/49VnC5zv6tat6+Ke8YI3/KOPPrKzzz7bve5sT69YscL7euXKle7pR3CzhR7sDgSAwxf1Z555xsfOU089ZfXr17cRI0bYCy+8YNu2bfPdBMYeXr7QFJqHXQfqGaTBgwe7mGfLn61zyuvXr19K+QdkR6vROYJAqLjnmcLTWKBAgb3EPXMroSCvvfaalS5dOsUg5zOup4x77rnH3nrrLfvxxx/9+f3jjz9s7NixRjgJRjrGeuC5R2CvX7/edu3a5c9/hw4djLWB54/nnl0w6oAzqEWLFsauGc8288bixYvdAGGXLzQxd3Tp0sXXCNrRpk0bXyMoL3RHokmTJj5nhKaXX37ZeIZ37NhhlSpV8l1FhD3hgJQR5Lniiivsm2++8XqRhzkLZxXGPByOP/54GzBggJ111ln2559/+jzFuvb777/bpZde6vMK7WL94l5XXXWVEe6XN29e69u3rxsefN6jRw+bNWuW5+Mz7lGoUCE755xz/B7sgFM+93rppZecdfXq1T3UEM9+0F8woPyffvrJ++eOO+7wZqdnvssRgzfBKxlN3Efqv6OPPtrXntNOO8379tVXX7W2bdv6eONzNBHX8KxlxfPC+OMZ5z7sFvH84qQK0htvvOHPBs8s4yl0N45nlLw46g499FDf9aMc1tqjjjrKnyXWScLdZsyYYcWLF/fv0npeyIcu5LmHAxrvkEMOSfDeT7t6SSPu8WDilUVwI/BZAIKwnIMPPtgnunLlyvkWKBMdAwuv63vvvefbkaT+/ft75yLySHh/mbjp7KlTp3rZTMgMLCZkBBiLCBPvySefnDZtXZHlBJjUCLthoWLxL1u2rJ155pku0JnMeOjxsiEkWMgQ9yQWJww7jL1bb73V2rVr5wsf3vKHHnrIXnzxRR8HTIYIBSYEEpMHOwFMiEEKFeqHH364l8f1jB3EAPkZe7lz5041D5NSpPJ/+OEHwxBlQaUtGCVKIpCoBAJxX6tWLR+vt912m4vxUM99esQ9zxHimjk6OCvDzhxecwTCsmXLbO7cuS7SSQgERDvP7JNPPunPE+EyXNe8eXNfK4JQOARxkA9hgKFAfYPE/Xh2uY7wGeZ7wkFZG9i1Q2SxkFIGdcKADxJhdJSFeCYvBn9Qv9TEPYKF+eLEE090I4F1CgME8ULbEdnMX48//rif6aG+1OH555/38tmpRNyvXbvW68OaRTklS5Z0owKnAOKb+Q0BAz8cBsOHD99L3Ac7ngge6j5mzBhfP5lDg/7CyGFuhO+3335rixYtcodIeua7RB2vOale0cR9tP5jXLD+YLDinGRHm+flpptu8p3gwDGWFc8L6zECnYQwr1y5srVs2TIFe3rEPRezjiLIR40a5esh6zDPeDD+ihYt6p8VKVLEn1cM1UjPS5APg4e68WwlQ0oacY/AYlJjsOKJYPAG4h5vA+IOryydjpBjosMq/PLLL13cI6j4P+KeMhiEGAkMHibHJ554wnbu3Oneke7du9sNN9zgHiAeBOItg8UhGQZFTm8DHjh2VoYNG+b9w2LGBIKHYv78+bZ8+XKf2BDIgbhnMfz+++/ds8Yh2KefftrmzZtnJ5xwgo8FFnImFCYMJpNoYTmh4h4B36pVK7vmmmv8N4Ym3otTTz01orjH259a+RzcQ3hs3rw5xXDJ6X2l+ic3gUDcM28yB7N489O0adOUmPv0iPtAoPMMY2BTLjumCF88zQsWLPBnnucGQ3vJkiUucFkT8Ijj7GGNQAwjsPFG4wHkWcdRE5ydQRyEp2ANQCDgJMKhgzBH+BJqxHpDfdhpYP4ITcEuG+sHuwiB6IrkuUfcU28SwodnPfh/cFYIhxTGEWnhwoXugKAN5KX+gbgP8mFcsNDDBwOJXUSYI2pwFuCsYv0L9dwz58GRNZH0wAMPuEMk2EmhrXCpVq1aSpl48RH56ZnvknvU75/WRRP30fqPXRscnDw37BLhoedZQBdh+LL2sUucFc8L62cg7oPxGUorveI+yMvzhnGPQzYQ6cF3PGOUh1OBdkZ6XoJ8zE/58+ffP523H+6SVOIe7wOeeToXIc/Eh1VK2AUDFq8sXhh+SExUeHAQ94FHCQ89241Mfngg8IiwHcmgZFJnsg5PPBAsXkqJQSCIga1du7Z75xDzjAu83Hju8KyxFRh4AIlnZ8H75ZdfXMgj+CdMmODGIaJ+06ZNtmXLFm8cCzkTRXrFPcKCiZTyEPWEhDG28MCFpvBQntTKx2DFqGQ8EnuvJAKJTiBU3GO0IjzZSWOODg7Uhot7wkbwFIeG5QTC+eGHH3bvcXCIMAiRQ4QG3mrEA0IUAc+WPEKYOZ75PDzxPQYDz1tw6D78mkC8c9/y5cv7oXy8fIhtHEDRxD2OIURwkJcdQNaK9Ih75gjCQtklIBE2QagObY10gJK5DkcCLAKRwxwUGA2IeZxRzIu0A08t82WJEiVSxD1tYh4MPQSNQcQP/cm6SX8EL6sIbT+s0zPfJfq4zQn1iyTug3UsUv+xC4ShiZhHF7GeME4Jg8EhhlAOPOCZ/bywnvJ8MpZxpIancHGPIUK9eF6CsBzyBGMbYY4ox0nLuKfewXeBIc3zl9qzTzk8LzgaQvPlhL5PTx2TStwjvJnE8G5izZGYgOg4BjAdjCeXbWE8PaHiPnh9WiDumYAR7aHinsWCcvAMMyBI3IdtS7Z/lBKDALsyTFykQKgHgp/PmBTZnQl/FWaouKefg5h8xAZiIvDSZUTcY0hwHxbLYBsUT8nSpUv38hKkR9wjhvDksdUe/oaexCCvWojA3gRCxX3ofMpVCFXma3ZCCaHDI49gZlcL4RmruCfc7v333/dnBe83z/G9997rXnueHQRNMHfjqcN4j/YKzeCQPjHurC0bNmxwjzWimVj69HjuEU140PH+c/YrveJ++/btLkBIgbinbcwr7OThLQ/ig2GGUwunBrH7wZuIQsU9OxqEBcIYzy3GEnMTxkeo555+YMcbcUUKdkxwkAWGV2riHm9/euY7PSfxE4jmuY/Wf+zS4KknhBXdQngxIVdoGcKL0UWcLcmK5wXDD3EfrMvhFPCys8vO+kz7eL7YtUtN3DPeg50yzsoEHnhC4RjjQYQGY5ZnINLzQiidxP3ePZHr33jAPfEM0Xgsi+C+wasw2UIKvOqB54drmIDwUjChsl3IBMkiQ2IgcQAjeO8wAyiauMfrxH14CDhYycOBpYllyDaWUmIQwNtFPB8pMNoCDwCfscNDnGk0cY8YIAaR7XcmGUJxSIwtPg+2qRH6eNHx5AUpVKhTFzwIGJZ4yfj3zz//7GEDhOiklgcPZ2rlY5BidCCG0norR2L0hGpxoBMIF/fMnYS2fPbZZyniPgh5w5vIM4JnmRSruCcvIoIYfAx9QmK4JzHpPHf8xgDAu4+3Hk9mNHFPuB7zAK9ZJvwF8UMsPyKXsJ5o4j6IuUeMB2d5gnkpUsx94HnEcx9J3NMmjBSMF3YemRuI0yemnnUqkrinnYQmEmJIOA6saQNvFAsV98GOA4IJVhg4iDLW02CnJTVxjxc1PfPdgf5cZEb7A3GPMRe6k8OaxNhAl6TWf9ybNYsxg5OS9YTIBXQSO8M4wpB2WfG8oL+iiXs88LSHaAscsRiVwfMS6rnnWeK5xOkW1DkQ96zt7ESxDhcrViwl5j7S8xIezpMZfZMIZcSjrxNW3OPhZIJDvDEBcZgIDwWDmcNHeBfwnOIt4o0K6RX3CDziFpm8mNx5CwGeHA4VJcPp6kQYkJlVh0suucQXuGA7nzGBN4MUvL4ymrgnHwdr2DpkosO7hYGAV4H+RpxgOHAPJg0W6tSEOl5DDsLhlfztt988TACvRBAzG0ncp1Y+b83gIBz1YgJUEoFEJxAu7qkvnmi8ZcEbL3hrC88SYZSciWJBxvESq7hne563ZrETh8HA3M/ZF960E4h+dmERxYhcnrW0/vgV6wXzPuIDsYuwYgeXFE3c8z1ecTyQeA4RHoQAxuu5//vvv91JQQgNDgTmFd4wgniKJu7ZNSTuHoEPEzyfMOBsUfjbcpi3MI5YI7kOxwK71NHEPcZZeua7RB+3OaF+gbgPr2vwgo9I/cf1rFkYiBh1rF1BhEJwtoVrsuJ5Cd6WE8lzz33ZIcNw5gA7hid/RyLUc8/OA4e5cezixMOgxfAORDohuMwfzCN8RxhgtOdF4n7f0Z4Q4j4nPISqowiIgAiIgAiIgAiIQGwE0jIMklWkx0bL/BA9Bk4sSeI+FmrKIwIiIAIiIAIiIAIikG4CEvfpRuUXStxnjJeuFgEREAEREAEREAER2I8EJO4zBlviPmO8dLUIiIAIiIAIiIAIiIAIJCwBifuE7RpVTAREQAREQAREQAREQAQyRkDiPmO8dLUIiIAIiIAIiIAIiIAIJCwBifuE7RpVTAREQAREQAREQAREQAQyRkDiPmO8dLUIiIAIiIAIiIAIiIAIJCwBifuE7RpVTAREQAREQAREQAREQAQyRkDiPmO8dLUIiIAIiIAIiIAIiIAIJCwBifuE7RpVTAREQAREQAREQASiE/jpp5/sqKOOEqZsIrB9+3YrWLBgNt099dtK3CdUd6gyIiACIiACIiACIpA2gT179ljbtm2tQIEC1qNHj7QzZOIVzzzzjPXp08eeeuopq1+/vp1zzjl2/PHH27vvvpuJd8neotLbpho1athtt91mN954Y/ZWOOTuEvcJ0xWqiAiIgAiIgAiIgAikjwACe9iwYTZjxgw77rjj0pcpk66KR9zv3r3bKlWqZK1atbJmzZplUo0yv5j0ivs5c+bYHXfcYZMmTbLzzz8/8ysSQ4kS9zFAUxYREAEREAEREAERyC4CO3futIsuusjuuusu/9nfKR5x/8EHH1jTpk3t/ffft0KFCu3vqqf7fukV9xTYpEkT++eff1zgJ0KSuE+EXlAdREAEREAEREAERCCdBN566y279957Da9xsWLF7I033rD777/fOnTo4F7k2bNn2+233+6f8cN1jz32mK1bt84KFy5sLVu2tMaNG1unTp1s/Pjx9tprr1np0qWtd+/e9uyzz/pneNdff/11GzJkiG3cuNFOOeUU69y5s1144YUWSdw//PDD1qJFCw9R6dmzp61fv94IW7ngggts4sSJ3rouXbrYl19+mfL/KVOm2PDhw+3bb7+1c8891/MVL17cbrjhBvvoo4+Mth522GFWs2ZNO+2007xOK1eutF69evlv4t1p6y233GLvvPOOGzu0bfXq1fbVV195viuvvNLDiL777jtr1KiRt3vHjh3e5vPOO88OPfRQW7VqlbeN6zjDEC7uI9WTNj3//PPWrVs3e++996xo0aLp7MWsu0ziPuvYqmQREAEREAEREAERyHQCCGAE/eLFi73saOK+efPmVrFiRTv11FM9FIZQnk8//dRF84svvhhR3COor7rqKitXrpxde+211rdvXyPO/8MPP7SxY8emGnM/bdo0K1++vB155JE2f/58v6579+4ufAnBCQ/JWbhwoXvxy5QpY1WqVHGRTIjR9OnTXWwjyhHn+fPndwMEo4P6XHzxxZYrVy576KGHvA2059VXX3XxHuxk9O/f315++WU3EEgYN+PGjfNrp06daiVLlnRxT+ratasbMKNGjXLDAIEfKu6j1TN37tz22Wef+dkD7onxkN1J4j67e0D3FwEREAEREAEREIEMEMDzjhh988030xT3eNHxwiNWEbEnnXSS/fjjj1akSBHr169fRHF/4oknumf87LPPdm/0PffcY2+//bbvCsycOTPigdrWrVu7d51rHn30UZs7d66H4LBjwG9EfhCSc99993kbEPMlSpSwgQMH2tChQ1N2Eh588EHDY46QR+SPGDHCPe7z5s2zE044wcqWLeuCnXYhyPHiI+7x/FNPxH379u39OspBvOPxf+KJJ+zyyy9PEfdr1651jnAivAaDIFTcp1XPbdu2+e5EsFOSga7Mkksl7rMEqwoVAREQAREQAREQgawhwNtZfvjhB/dAk8I997NmzfLwnEBs4tXGc03oy9FHH+1hLHfeeaeH2YSG5fDWnTFjxvhnFSpUsKefftpDXbZu3eo/JEQ7wjnS23I44Ivx0a5dOxs8eLCL5CAWnfutWbPGJkyY4GXVrVvXvvjii30gEaaD+F60aJHHs5OCz/g3BgGiftOmTbZlyxb/nt0MvP6Ie/g88sgjzqdNmzYehnPrrbemhM9Q93r16u0j7tkpwKAhbIgQoeANQGnVE2OJHQvuTbuzO0ncZ3cP6P4iIAIiIAIiIAIikAECeMc///xzF96kQFDjpUa0I6qffPJJF/fXX3+9C+rTTz/dDQLi6hcsWODimFdXEjqD+EfMErpD6AziHoFLOA2i+Oabb3axTL60xP3vv//uhgEedhKCntAgPOLEtHNWgFAcEkYAdcfwoH4kriO+n9Ae7o2X/uCDD3YhjieeWHrENqFGGCMI/UGDBu0l7gOjJhD3QR2C2PjUxH0QMkQdCHcK9dynVU88/+wsIOyz44Bz+NCRuM/Aw6RLRUAEREAEREAERCC7CSBmCVH55JNPXPgixGvXru2x6whx3n9PQuRWr17drr76ao9T5zti1Dn4SQz78uXLPaSF7xHkHTt29HyIe0JnOExLnD6veESgB4YE+aO95x4BT0w/iXh1QmiCkBzelhO8uhNjgTAdxDxx/YhkPOeE0CxZssS/I4b98MMPt9GjR/tOAqL/pptu8oO6GDLEyJMQ+rx9B3GdUXGPEfH999+7ocBBXsKJQsV9tHrmzZvX20adnnvuOeed3UniPrt7QPcXAREQAREQAREQgQwQWLZsmTVs2NDfOEOsN4l4dUJq+KNWHE7lu0DkvvLKKy6MN2/ebMTSE5aDiMXLzjUIcOLqefMOnnTEfalSpYy33yBsEeOE8yxdutQ9/YTSRBP3HKzFKKBMDAESoTFff/11SkhO0Fzi7akbwp4wGLzk11xzjYfN8HYfQowQ0IhmYuqpH8YNXnwO+BJPzzXkY/cho+Ke+HzOA7ATws4C5xAwIMLflpNaPYPDs+w8wIwwojx58mSgJ7PmUon7rOGqUkVABERABERABEQgywg0aNDA3/hC+E2iJbzzHORlB4GDuEFIDgdT8XAnQgpehUl4T3AGIJZ6/fHHH3bppZdarVq1PAQpEZLEfSL0guogAiIgAiIgAiIgAhkggPeew6Z4sS+77LIM5MzaS3lTzsiRIz3Onzfl4BVPxJRZ4p739vN3BDjUzPvxEyFJ3CdCL6gOIiACIiACIiACIpBBAohK/lBUEA+fwexZcjnx6ytWrPBXUCbCO98jNTKzxD1/OIzYf8J7EiVJ3CdKT6geIiACIiACIiACIiACIhAnAYn7OAEquwiIgAiIgAiIgAiIgAgkCgGJ+0TpCdVDBERABERABERABERABOIkIHEfJ0BlFwEREAEREAEREAEREIFEISBxnyg9oXqIgAiIgAiIgAiIgAiIQJwEJO7jBKjsIiACIiACIiACIiACIpAoBCTuE6UnVA8REAEREAEREAEREAERiJOAxH2cAJVdBERABERABERABERABBKFgMR9ovSE6iECIiACIiACIiACIiACcRKQuI8ToLKLgAiIgAiIgAiIgAiIQKIQkLhPlJ5QPURABERABERABERABEQgTgIS93ECVHYREAEREAEREAEREAERSBQCEveJ0hOqhwiIgAiIgAiIgAiIgAjESUDiPk6Ayi4CIiACIiACIiACIiACiUJA4j5RekL1EAEREAEREAEREAEREIE4CWS7uI+z/souAiIgAiIgAiIgAiIgAiIQQqBYsWIx8ci1598UU87/ZYrHsojnvsorAiIgAiIgAiIgAiIgAslIIB59LXGfjCNCbRIBERABERABERABEcixBCTuc2zXqeIiIAIiIAIiIAIiIAIisDcBiXuNCBEQAREQAREQAREQARFIEgIS90nSkWqGCIiACIiACIiACIiACEjcawyIgAiIgAiIgAiIgAiIQJIQkLhPko5UM0RABERABERABERABERA4l5jQAREQAREQAREQAREQASShIDEfZJ0pJohAiIgAiIgAiIgAiIgAhL3GgMiIAIiIAIiIAIiIAIikCQEJO6TpCPVDBEQAREQAREQAREQARGQuNcYEAEREAEREAEREAEREIEkISBxnyQdqWaIgAiIgAiIgAiIgAiIgMS9xoAIiIAIiIAIiIAIiIAIJAkBifsk6Ug1QwREQAREQAREQAQSicA///xjf/75p+3ZsyfNauXKlcsOPfRQy507d5rX6oLoBCTuNUJEQAREQAREQAREQAQylcDXX39tRYoUSZewD26MwN+8ebOVLFkyU+tyoBUmcR/W4ytWrLArr7zSmjRpYr169TrQxoPam0kE/vjjDzvrrLNs9uzZVrx48UwqNXOKeeihh+y4446zdu3aZU6BKkUEREAEREAEQgi88MILtmjRIuvfv3+GuQwfPty9/Q8//HCG8yrDfwlI3Evc61kII7BkyRJ75JFHbMaMGTGzkbiPGZ0yJhmBt99+2x5//HH77rvv7Oyzz7a+ffvaKaeckmStVHNEYP8SGD16tPFsvfTSS/v3xum425dffmm33367TZ8+PR1X73tJ3rx5rV69etahQwe75JJLYirjQM8kcS9xf6A/A/u0f9euXbZq1SorV65czGwk7mNGp4xJRIAFpnbt2vbcc89ZhQoV7Mknn3Rv3pQpU5KolWqKCOx/Aoks7u+991674IILrGnTprZz584Mw8mfP78bBiNGjLBXX301w/mVIUk89wwAtoC2bdtmZ5xxhnXu3NnOP/98Q6T17t3bXn/9de/rOnXqWNeuXS1fvnxG+A1hNytXrrSCBQu6lXnLLbf456FhOT/88IN1797d5s+f73FjV1xxhZfx119/WenSpe3CCy/0zzk0MmnSJI2pBCCwdOlS7/c1a9Z4SEzPnj2tTJky+9Rs9erV1qVLFx8Dxx9/vHsJatasaXPnzvV/v//++zZ58mTvV8bVwoULvYx+/fr5xEXiXoy33377zcccZbZu3dqqVq26V1gO3z/66KO+G4BXgvLr16+/T53wUlx77bU2b948W79+vVWrVs23NQ866CC76KKL7LHHHrOLL77Y8zFx1qhRw5o3b+7ejVq1anl9EFSM9bp169oTTzxh33zzjZUtW9aFFZMmYTk7duwwxvYXX3zhRgz3IFSHxL3xrlJO5cqV/bsjjzwyJd/atWvtnHPOcW+skghEIzBu3DibNm2aTZgwwS/7+eef7bzzzrOPPvrIjjnmGEBjDdAAACAASURBVMETARGIkUA0cY8mGTlypBvViOvLL7/cunXrZkcccYRdeumlvjPN2sEagNH9zjvv2Kmnnur659Zbb7XFixd7rZ599lkbO3asr2833nijtW3b1tci1psqVarYrFmz7MEHH7RGjRqltIJrKXPOnDm+rsYq7n///XdfU998803t9MUwRnK85/69997zwYggZ7AivBl8H374of97/Pjx1rhxY4/fwgLkWmKNEUgc3EDovPjii/bpp5/69+QNFfd33HGHx00T+4U3d+rUqf5vBjrinoTARwS1bNkyhi5QlswkgMe8UqVKLugRu0xuCIxAmIfei37mmmD7kH5lUkMgh4p7xssrr7ziomTo0KE+ETIOMB4R8R07drSrrrrKxxC/iRcMF/eMMyarPn362Lp16+z666+3t956a594fMIWMDYZc5R/2WWXuTFRvXr1qOKew0dnnnmmvfHGG/bjjz+68XHwwQfbJ5984m8e4Blo0KCBGwLUhfYguhD07du3tzx58tjTTz/tdbv66qu9DYh+vuOZwEgI8r377rt28skn2yGHHJKZXaeykpAA42bTpk1uWAYJw5BQglKlSiVhi9UkEdg/BKKJe4xphDkCnzm+U6dOvv7w/x49eviagMDHecX6xjx/5513+nqJs4vnle+4ftSoUe4Uuu666/wanE8VK1b0t9q89tprbjCw1gSJnTnWChyipHBxv+qrNfb0qHH2xx9//lvGIfbQ3S2seNGT9oLG/UjXXHONn38MNR72D92cf5ccL+4RKK1atfJBwG8GGV5JxM65557rIiSI+0KEFSpUyBDseCdPOOEE92gi/jAEEF4sOKHiHusTKxjDgTgytpj5Hq9/IO7xZColBgGMOE7oc5iVtGHDBvd+46FmMgpNDRs2dI8+4wYvIiIETwOGQLi4D/qYeHyMgeXLl/vkxZgKJjHKLlGixD7inrcFINpnzpyZIuYxBBHPjMXQRH52ivDKk0K989E89+RjZ+CGG27wfBgi5cuXt2eeecb/z4TObhNGz0033WSfffaZLVu2zL/DW8OE/fnnn/ukHirG4MZ3XMOEze9Y4ygTY4SoFvuTALs+W7du9R2nIDHnIkwYo0oiIAKxEYgm7tFDrAXM3STOu+CEZP3CCYXRjSPo7rvvttNOO81D5dihbtGihe/64uBBzLNG4hgijRkzxhYsWOBGA+sNO9Y4i8ITIXc4THEgkcLF/dS337FzzjzdTj2luM37YLHNmr/Qurd7YK9iAnF/1113+Vp+//33xwbpAM6V48X97t27PYQASxVRz0EtrFSEE4sHHvXnn39+ny5mqwdRj5DZsmWLfx+Eb4SKe8TM4MGDXdgjFEkc9MAQQNyzbfTyyy8fwEMo8ZqOZ5mtRDzYhKT88ssvvuuCdzo08bqtQYMGeRgORt8999zj25fhYTlDhgwxdohICGIEN94NJjHCwULjh1MT9xiHbIUyYQUejr///tuaNWu2zxtr8GpyPwwSEqFi7DJhBISLe7z/7DwwwWI8kA8Pf5CP3YNg8mVs83zwrLClethhh6WIdDhhCBAqwXWEseGNCRK7ISwKbOvqLTuJN94TuUZPPfWUh5eFeu4ZqwgJxrqSCIhAbASiiXuE/IABA1zQBwnHJc8dYh7dwppGaCi/WTfYSSYslZ3pY4891gU8KVgL0Fqnn366e/RZQ3BwssaEJ+7BNYEuChf3m7/9zsZMnGw//vSz7fp3N+Ff76k93a/nXsUE4p4wIBxuOJaUMkYgx4t7RDeeIbxBhCCwvUTsPWKEuK9ixYr5iXISYv7www93S5B4ZLaW8Ggi9BF54eKe7wjxIHyHcAzCJBBkoeKeMoJ40oyh19VZQQAhQfgJEwtx8vyfXZdwcY+HH+81uzuEneB9J2QLYf/VV1/t5bkntCsQ8KHinjxsaRKbzxghpSbumSjZIWC36KST9t5+DGcQPmmGinsmUibU4O0Bod6T1PJFEvd4Ygi/CeIqeYZghuce8b99+/a9PK1BHfUKzawYscldJnMjIWzBeSTGFsICTyEGtZIIiEBsBNLy3IeGs6CR0CrBWZebb77Zoxpw7KBtCEk96qijfNcajz4JJyeOrNRCYqKJe6Ip2BkgHp8ULu7v79TDrq1f1ypXLG+rv15rg0aOjijuqScGCh58pYwRyPHini0iDk8izBDz/JtDW4h7Qm1YXIiPR3zhZSUkgdAafiP6iCELtp0Q84i9wHNPTBref7yVDFZiz7BqMQyIg8ZzL3GfsQGX1VczeSGIJ06c6OKBMUCfIeQ5SB0kDDUMNyY1th/xxLOFiWAnFCU0LCeSuKcMDhXhVWcLFMPgvvvuSzXmnnFGIkwBTz4x7Qjq8LjjaOIeLzxGLFuUiHN2A4Kt0YyI+yB2HlbE99NWJmB2qODAjgATPjsFH3/8sU/SXCNxn9WjN/nK//bbb32cEh7G7hDhORiVxOoqiYAIxE4grZh74ufRR4Sc8uKIX3/91f9PQsvgKOJ5JPSGM16EmxIuGnjJKR/NxLN74oknupFOrD5iP5q4x1lEmThbcZyFi/um97T5NwyntZUoVtSmvDXd3p270Ib2T91zz5kzQl+DHenYaR14OXO8uOctNQgmDsNyShuvPN57DhQivhjAxDoTWoCoD96Ww5s+8O4itBBMCBgGdhBTH/wRK6xQHgB2AxhgePkJ+SHsQ+I+8R4Y+pMQADyF/BvBTp/RX+F/TOqDDz7w3RqEMlt/CHNiDcPDciKJe1ofvC2HEB/GB8KFMRZ+oPann37ysUjZGJqMM8LHws8BRBP3eNbZpmQssyPFmw6ob/C2nNBtUgycSJ57Jm+2WDdu3Og/7HDwPLDDQMIYGjhwoH8HM+qJEStxn3jjPSfUiDmUOZrxyg4WZ0MS7Q+75QSOqqMIhBJAfLN+hSccmzhteIsgse+Ia8KTCavkcxLn0hDOgSc/eHUzzlDmehLaatiwYb6WYhige1hjOEMWTdyz7uL0Yg1hly5c3C/4cImNGv/Sv2Gq+ey4Y462z1d/ZZOeGbJXMwjLYU0lTIg6EkaqlDECOV7cZ6y5uloEMpcAIhnvRJCYzPCA4/VWEgEREAEREIEDjQBv2cFpxtnEWF+FyRmy77//3kOnlTJOQOI+48yUQwScAB4KQr7atGnjHkle74cHnLhFeRo0SERABERABA5EApxpY1eZN79xgJ61Mr2JnW3OCLAjTXTF0Ucfnd6sui6EgMS9hoMIxEGAWEUEPQd3OeBKSA5nP5REQAREQARE4EAlwJsI+dsphPIg9tMj8BH2hKryph9eyak3asU+eiTuY2ennCIgAiIgAiIgAiIgAiKQUAQk7hOqO1QZERABERABERABERABEYidgMR97OyUUwREQAREQAREQAREQAQSioDEfUJ1hyojAiIgAiIgAiIgAiIgArETkLiPnZ1yioAIiIAIiIAIiIAIiEBCEZC4T6juUGVEQAREQAREQAREQAREIHYCEvexs1NOERABERABERABERABEUgoAhL3CdUdqowIiIAIiIAIiIAIiIAIxE5A4j52dsopAiIgAiIgAiIgAiIgAglFQOI+obpDlREBERABERABERABERCB2AlI3MfOTjlFQAREQAREQAREQAREIKEISNwnVHeoMiIgAiIgAiIgAiIgAiIQOwGJ+9jZKacIiIAIiIAIiIAIiIAIJBQBifuE6g5VRgREQAREQAREQAREQARiJyBxHzs75RQBERABERABERABERCBhCIgcZ9Q3aHKiIAIiIAIiIAIiIAIiEDsBLJd3MdedeUUAREQAREQAREQAREQAREIJ1CsWLGYoOTa82+KKef/MsVjWcRzX+UVAREQAREQAREQAREQgWQkEI++lrhPxhGhNomACIiACIiACIiACORYAhL3ObbrVHEREAEREAEREAEREAER2JuAxL1GhAiIgAiIgAiIgAiIgAgkCQGJ+yTpSDVDBERABERABERABERABCTuNQZEQAREQAREQAREQAREIEkISNwnSUeqGSIgAiIgAiIgAiIgAiIgca8xIAIiIAIiIAIiIAIiIAJJQkDiPkk6Us0QAREQAREQAREQAREQAYl7jQEREAEREAEREAEREAERSBICEvdJ0pFqhgiIgAiIgAiIgAiIgAhI3GsMiIAIiIAIiIAIiIAIiECSEJC4T5KOVDNEQAREQAREQAREQAREQOJeY0AEREAEREAEREAEREAEkoSAxH2SdKSaIQIiIAIiIAIiIAKJROCff/6xP//80/bs2ZNmtXLlymWHHnqo5c6dO81rdUF0AhL3GiEiIAIHLIG1a9daiRIlDtj2q+EiIAIikFUEvv76aytSpEi6hH1QBwT+5s2brWTJkllVrQOiXIn7A6Kb1cjsIvDQQw/ZcccdZ+3atcuuKqR638mTJ9v48eNtypQpGa5X9erVrUOHDnb55ZdnOG8iZfj000+9X1599VXLly9fIlUtw3VJlj7JcMOVQQREICEJvPDCC7Zo0SLr379/hus3fPhw9/Y//PDDGc6rDP8lIHGfykgYOnSoFShQwJo1a6ZxIgJxEchOcT9ixAh/wHv37u1tYFw3bNjQChcubJkl7m+77TarX7++XXXVVXFxCs38+uuv24knnmjnn3++f5wV9/jjjz+sTp06NmjQIDvnnHMyre7xFLRkyRJ75JFHbMaMGRkuJpHF/a+//mrTpk2zV155xe644w677LLLMtw+ZRABEdibwOjRo+3tt9+2l156KeHQfPnll3b77bfb9OnTY6pb3rx5rV69eu5EuuSSS2Iq40DPJHGfyghgsT/++OPt3XffPdDHh9ofJ4HsFPdbtmyxXbt2pYSdMK4nTJhgpUuXzjRx//nnn9sJJ5xgBQsWjJPU/2dnUahYsaILQVJW3OPFF1+0999/355++ulMq3e8BdFXq1atsnLlymW4qEQV9+vWrbNGjRrZxRdfbB988IE9+uijOX7HJ8OdowwikAUEElnc33vvvXbBBRdY06ZNbefOnRluff78+d0wwEHFzqpSxgnkeHHfuHFj++ijj3zhwCPZpk0bmzp1qv+ceeaZNnDgQMMT+Pvvv9ull15qnTt3dq/8pk2brGPHjp4XYXLLLbdYixYt3Fu4ffv2FJJYoPy/S5cuNnfuXGPQcc/WrVv7thFC6cILL/SYMg6OTJo0KeO9oByZSmDp0qXurV6zZo0VL17cevbsaWXKlNnnHngErr32Wps3b56tX7/eqlWr5luIBx10kF100UX22GOPuSghMUnVqFHDmjdv7p6EWrVqGffhAcIDXLduXXviiSfsm2++sbJly9qTTz7pYwVxv2PHDvvhhx/siy++cOHGPQjVIXHvvn37ejmVK1f274488siUfMSEI8off/zxlPrj3T3ssMN8/JKIGe/UqZPdeuuttnv3br8H3hyeAQR+y5Yt7aabbrJt27b59d26dfO6Pffcc87lnXfesaOOOsr69evnE3J4WrZsmZdP2wjFmT9/vnXv3t3/fc011/jzwE/Q1qDO8Hv22Wdt7Nix9ttvv9mNN95obdu2db48KzAiNOjvv/92zz/PGFwRhKQGDRr48xt6D56zkSNHet1ZNKgD7TniiCPcYOH5O+OMM2zhwoVeRqQ2ITjZmeMeJOqH8MRrjtcIjxE7EuGJZ75Xr17OjD4sX768LV682N56662IY5j5h/q+9tprfs0VV1zhLJcvX+7/x5ipWrWqFS1a1O+L0cH8hGCnj19++WXbunWrsWAGu4nR+iRiRbLhCwwWxiTjtWbNmh4GldPDubIBo24pAvsQiCbuo82T6CDWENYz1qUKFSr4fHbqqafaihUrfB1hTiNFmr9ZA6tUqWKzZs2yBx980A34IDGXUuacOXPcSRqruEezocfefPNNO+WUUzQCMkggx4t7BjjiDfGDCEBoH3zwwS5A+IxQBMQXC/Hzzz9v119/vV/PArtx40YfyB9++KGxJY6VyMJ+8803pwxsBB/l4lHDAAAYD8Ldd9/toglxT+K+iDM+U8o+AoRbVKpUyfsYoYioGjduXIrYC63Z2Wef7Ybd7Nmz3cNNuABiEFEVTdxz0AfD8Y033rAff/zRBTFj7pNPPvFT/ghdRCOGAIKXcATCEhiD7du3tzx58rjHGBF79dVXG/GFCHK+Q/hiJAT52D06+eST7ZBDDkmpOgKU/IhGRCCTLON01KhRtnLlSjdSEYgYCoh7RDQp3HOP0HrmmWfcS841GCsYBKGJCZbyeSYQlgsWLLB77rnH65yauKetQZ0Rswhx6oUxcd1119mdd97pBhWfIcZZPOBBmSwIiP9wz32ouGfngTyUC0+MDurI/ymPNlGH8847z599ntXwNgVGOQvTSSed5M2FN+X06dPH+4V5AsGOcRia4AV3jBLmCupM2+AdKeEcYEziSMAIoa9/+uknW716tY8X/k8dmVtCxT3cGRMwo2+aNGni8xRjIVqfZN/TF/3OEveJ2jOqV04kEE3cR5sne/To4fMOAj+YM4N5hvWSNYT1gO8izd+sGbzVhjmeOY31L0jE2TOfosFIoeJ+3YaN9mC33jZxxOB/57GD7Z9/Df8bWtxrfTq1s5LFi6WUwZxKYu5n3gs1HnJiX2VHnXO8uOdUNVYknj8Wwdq1a7tgZ9EPvJB48TiBzSBBpHPQA1GFNxYPJF40DAEsWbx1oWE5n332mX+GMMHDikWMiP/rr7/cMg3EPd5KpewngHDjhP5ZZ53lldmwYYMLX7zmTEahCY83/c84IIV656OJe/Lh5b3hhhs8H0ISDy7Cj8TkyfjAwMBjzhjC00rCM4K4JdSECRRxHohv6sh3XMPkyO/UYhYDzwiTKKIQI5XfTKZM6ohGjJT0iPtg3CI8CYMJvMkBJ3YWEMyIVwwPEu2PJO5D68wzQ4w/xg5pzJgxbhwgznleMRh4Dkm0nV0yjKJo4p7JHu5wIn333XduWCN6MdKoa9AmPqOs8DYxZ/AMB2OCMYOhN3PmzBQxj5GO6A5CgwIeLDII/2CxwYBg7kjr+aedGDAYaiyqHODlHuzS8Pl7773nO4Ph4p75CuOHeQeDkn7Gix+tT7L/KUy9BhL3idozqldOJBBN3EebJ3mRAA4knFM4KU877TQ/+MquJ44hnKHMV9Hmb9YAoiBwYIUnXtJA2CNOFlK4577Do/2t+sUX2uXVLrEFHy6xV6fNsCe6P7JXMYG4v+uuu3wtv//++3NiF2VrnXO8uIceAxkPJQMTQUVIAgK9VKlSqcJlYOMhZDuJwR2eQsU9nj8GGNezCJMQF4G3H1HH1hFb50qJQQDPMaEgeNUx3H755Rc36hBJoYl+HjJkiIt/EjszhOEg6MLFPYKOnQAmM4Qg+fDwB/kIqwgmOsYgoTgYgxiehCQEIp06MWYQ01yHFxjPR5DYeUCUEmoS7S071IeDpuxKECKGYGZCxtty5ZVXephQWuKenSzuT8L4wLjBaxOaglCX0PEdTdyH1jl4xWTQPsIzTj/9dK8jnh8Os/I7PEUT9wj5AQMGuKAPEs85CxNGDf2CUI7WJkKwMOS5Hi84nnq2qllQAg8UoULsVIS/5Yh+xnjjN4lFjEUuLXFPeBFG2dFHH+2OBsYEhicHh7k/ZUYT99yLRY65jXrT3kh9khhP4b61kLhP1J5RvXIigWjiPto8iZhHszBP4rjkN2sZO5U8o2ieY489NuWsVmrzN+sa4YnBPBjKj7mJOT6Yn8LF/SefrbJho1+w4Y8/au179rWr69aySueft1cXBOIe3UVoD84upYwRSApxz9YRQoqYVbbWAy8jsbd4UBloQVgDAoPPsEpZvBFRCC6sTOKPERuh4h6xgzcRQY+3Fg8aW+KIsMBzTx48pkrZTwDhRn8xsdD/gZBLTdyHT1Ch4p5Ji8krOKkf6qlILV8kcY/XGvEWxDAG3mk894xZQjaITQ9PaR3EHTZsmLcNTzgee0Q63hdCTTBu8AinJe5DX4UZSdwjOIPzJkEd0yvuMTIwGFLbUsVzH7wFh3LxRn/77be+E5aW5z50m5Z8PH8YSzyP6WlTEGcanNNBdPPss0sRhOlEGsm0hd2IYNeGvqMv0hL3H3/8se8m4rHnPAgLJrs6LLSUyaKaXnHPfBWtT7L/KUy9BhL3idozqldOJJCW5z7SPHnMMcf4rim7iMwl7D7yyknOXRHlgEefFG3+jibuCUHFgcpaREot5v7udp2tYf06Nu6lKTZ60GPu8AhNgbinnhgqOFiVMkYgKcQ9YQmBBRmE2oCBAUZsMlvweGIRQnjKWFzxbOLVxUtLPCvf4fXjcwYTMbFsmxPiw0FAvGWIEbxtWLh8h9cfMSJxn7FBl5VXI/IQ6RMnTrRChQpZ165d3RNBaEz4u8yjiXu88ByMZTsw8OwG25AZEfdB7HxwcJuwCya7wYMHu5ccDzyTK+MTAciEyDVpifsgXAxhiIhnd4L6EkqCMUsKF/fsGGCg4qUmvCM9QpizCDxbiEleTcazQkhMpLCcUM89iw8hcIQr8dxxT2I9qTMx9/yfcvBi33fffe6ZZpFhhwxvDf/GKA+PuSculJ0KFinqxasW+X/46z0jGSywgQXlnHvuuc6KkL6AGQY89cJIZFeAcB9i5llwaAtji7zsBLHTQ11xKLBbgxEX7OiEjnOcChxYQ9QHYUIsnoQx8QOD9Ip7yonWJ1n5fMVTtsR9PPSUVwT2JpBWzH2keZJSmH9xXuGcwFnBHIdTBV0TeMmjzd/RxD0OLMrkDBqhnKmJ+3kfLLY+Tw21ls1vsga1au7TtYG45xwcLxVIbU7VeIhOICnEPU0kTgwBzjZ5sGXP1jqLNDFgxOYiHhBObElhECDWEAAMJARhsMAjEhBG7AKwZUVMLh5+QnG4FpHDdhE7ABL3ifWIIcyIYWdrkH8jRDltT5hO+OHIaOIezzp9zA5NsWLF/K0ChL0Eb8sJ3ZJk7ETy3DNRIuwYb/ywm0CMNtueJAwPQjb4jvrh3cVYTEvc0zYO9uI1JlyIhEc91LgNF/cYEfwgpAkPSY+4p1yeEeLE8XDz7GCUUL/UDtSGinveiEP96AsEOIYH3PiLhXxHeA07XvybxYBJnLAYDG1CjTBWEO3hb8vh4DvPOYsGhjvPJgejMyLu6Vv4BWF5GPPUDYGNF4mzO/QFibAtuFGf4G05jCnuyWfE7mPww6lVq1a+gxB+voNyOANE24MDvhgmGD+B1z+94p45J1qfJNYT+f+1kbhP1J5RvXIigeBlIuF1J6yTuSnSPMn1nEtDOON0wknCOoc+Yj4OQiWjzd/RxH0Q3cC6xnqRmrjfsXOXNb3nAZswfNC/TpK9z8JRP3QWZ6OYM6gjzg+ljBFIGnGfsWbrahEQgQOZAIfKEPj8EZjQNz2khwnGWnC4GKORbWi9Ajc95HSNCIjAgUCAUGl2vHn7WGrifsTz4+2Qfx05tza5LlUciHsiKb7//ns/j6SUcQIS9xlnphwiIAJJQICdAs7pZCSeEyFPCA4HbdnJYCubUD489koiIAIiIALmO5zsdPM2Ol5AgTc/SC3bdbIjDi9g3R5qbfn+fZ1weGLnlLNU7JJzdo5dZqWME5C4zzgz5RABEUgCAmxF88Ys4k55Z316EnH1eJJ4bSYLFnHzGAmpheGkpzxdIwIiIALJSIDXPHPmkXBHxH6owI/UXoQ9cykhm4Ra83ITpdgISNzHxk25REAEREAEREAEREAERCDhCEjcJ1yXqEIiIAIiIAIiIAIiIAIiEBsBifvYuCmXCIiACIiACIiACIiACCQcAYn7hOsSVUgEREAEREAEREAEREAEYiMgcR8bN+USAREQAREQAREQAREQgYQjIHGfcF2iComACIiACIiACIiACIhAbAQk7mPjplwiIAJZSIC/Ds1fBT7xxBOz8C4qWgREQAREQASSj4DEffL1qVqUjQQefvhh/1PZnTt3zvRaTJ482caPH29TpkzJUNlbtmyxiy++2JYvX25HHHFEhvJm18X8EZOmTZvaM888YyeffHKq1Yj2J9Czq97x3Hfu3LnWoUMH/yNZSiIgAiIgAiIQKwGJ+1jJKZ8IpEIgXnF/2223Wf369e2qq66y7777zl555RW7++67/U6ZIe7z5Mlj1atXtwkTJlixYsUyrQ9ff/1197Kff/75xh+Hyox7vP322zZq1Cj/K4WppVjFfTjXTIMQZ0ES93ECVHYREAEREAEnIHGvgSACmUggXnH/+eef2wknnGAFCxa0FStW2A033GArV67MNHGP537x4sVWrlw5O/jggzOt5bfffrtVrFjR7rjjDi8zs+5Rt25da9eunVWrVm2fusYq7sO5ZhqEOAuSuI8ToLKLgAiIgAhI3GsMJCeB6dOn2xNPPGHffPON//nqPn36WMmSJe2hhx6yv//+2whTWb9+vZ199tnWv39/O+aYYxzEvHnzrG/fvm7xVq5c2b878sgj/c9mP/vsszZ27Fj77bff7MYbb7S2bdvaQQcdZISPtG/f3pYuXerl5c6d204//fR9wnIuvfRSe+SRR6xGjRoeS16hQgV755137NRTT3URf+utt7ogbtiwoTVu3Njv2bFjR6/Xscce6x7sL774wp577jkrU6aM5z3qqKOsX79+dsEFF+zTkRMnTvQ//U17EcijR4/2sBw892eddZbNnj3bihcvbgjkKlWq2KxZs+zBBx/0+0dq6/bt270NiNDDDz/cWrdubddff73RtnXr1nkdGjRo4HUKvQfMevbsadOmTfP733zzzXbPPfc4P/oEIwNv+qpVqzwEZ8iQIVaoUCEv76mnnvK+evLJJ1MV9zVr1rT58+fbjz/+6DsenTp1skMOOcQuuugie+yxxzwciUSID+zz5cu3D9fwP3H+5ptvehu2bdtm5cuXt4EDB/oY+euvv/zzt956y3bv3u33w5ij/mm1I7Ty7EQMHz7c60z5jDnKDxf3I1VUWwAAIABJREFUtHnSpEm2Y8cOo538GXdCvqLxTM4nWq0SAREQARHICAF57jNCS9cmPIGff/7Zxe64ceNcBCPsEcWIpDZt2tjUqVPtk08+cZH3wAMPeHsGDx7s4vTqq6920YVXG8GO+MRIIBxm5MiRLrDz589v1113nd1555127bXXGh5rBH3v3r3daEDcNm/efB9x36NHD78OcUx5eKO5B+Ug2PHOI+auueYaF/f8pOa5Jx9x6HjJuR6jgjaFJsqibkOHDnXx2KVLF3vttddSFfeUc+ihh/r3ePUpK1JbW7Ro4dd07drVDSdEOnwwhEI994TlhIp7jAAOyCJi6R/KoX0YNIhiQo8+/PBDF7iwIy+imYTgRbAj4MMTopw+wjD56aefvA78IOQjiXvKj+a5/+yzz6xJkyZu4FD+gAEDfLy89NJLPjZmzpzp42DXrl0+Dlq1auW/02pHUHcMLNrNeDzppJPs/vvvtwIFCvh9QsU9xhf9hiGQN29ez4MhxhiOxjPhH1BVUAREQAREIMsJSNxnOWLdYH8S+OWXX1z4IrZr1arlghoPKaEuV1xxhXtf8XqTCIHBU81vxNWmTZtSPMQYBAhkhCDiLfCok2/MmDG2YMEC94yXKlXKy2NngFSiRAkX+Hh7Q9N7773nQviNN97wGPrTTjvNFi1a5CIPsVunTh03LtIj7teuXetFf/TRRx4Gg2AMTXisN27caIMGDfKPEeIIw9Q899SXw7+IXlKktuJBL126tLe7SJEifi0CFLGPARFJ3B9//PG+ozFnzhwrWrSo5yM+H8ODHRaEOB77JUuW+HcwhTlCmsR39erVs6+++sqFfGii7gjgW265xT/G6GH3BcMuVnGPMYihgIeexHjifAJGGBwxhI477jj/jt0b2oewT6sdQb3Z/cDAYdeEhHhnlwUDJ1Tc0w52UuB03nnnufeeXRiMy2g89wKk/4iACIiACByQBCTuD8huT+5GIxQRh8uWLbOyZcu6l/yMM85wT/6ZZ57pXlhSEB7DdXijEZ2hb5PBA01ZiFpS8B0hGYTe4DmvWrWqrV692kNBSBwo5WApZYUmPNd8h8gnnIPfHDolxIOQCwwEwm/SEvfPP/98StnUG1EZxOQH90MUIjr5TQp9W05qYTmEe9AOEoI5tbYSonTZZZfZmjVrLFeuXPsMoEjingsJ2wkV53jCCW2i3vfee68dffTR1r17dy+TfoM5nnPShg0bPN4eYwthHZqoK8YAhhGJA7gYVTNmzNhH3BM+hLGXluceTzrl8js8Icrpc7gjtDE87rrrLh9fabUjKCsI8cKwYUxQBmOUNyCFh+Www4Pxx64SdceIwPCIxnOfSusDERABERCBA46AxP0B1+XJ3WAEO7HSiHkEGPHbCG28zMSeI6j4NwmRiejDc4/HFq8qXu/wdOWVV7qIbtSo0V5fURZeVEJGAm82wrB27drucQ1PhLEQU85OAt8TekLc/MKFC92jT0pL3Ie+CjOSuEeIwyHwPm/evNlDZyLF3IeK+0htxXOMkUP4TOC5RugjuPHIRxL3hQsX9vAWhCthKCTaSr8gwhGslIdAJoWL+48//tgNAURweII1sfx8T8Jjj5HEb4wV2sWOBSl0hyJaWA7jgLaSl/Tnn3+6scFOACExhMh069bN201IDm2n7mm1I6g7hiX1w0jj0PQLL7zgwj5c3DMxYzAyrn799Vc3NmDJTkU0nsn9dKt1IiACIiAC6SEgcZ8eSromxxBAiDVr1sw9nsRuI6IQxO+++25KzD0hIggrYpc5oEjMPV5khD6iGyGHqCSWm/eOcxgVEUbYB1554tIJ90HsI2oRYHieEdTE+6cWcw9AYrURjRgQhPlgZJC/ZcuWLg5JoeL+yy+/9FAiwncwAl599dW93nMfSdwjXjFGuJ7wD2LdqXt6xH20thI+hJedcwMcJIYz4podCA7IsluAwcLORnjMPSKZehDmQigR7aftaYliDrfixQ8/VwArDDgMAziyy0L/ES+P2KcP8IgjivF84+0Owo/CudKXQWIcwI5zEIhojBBCZLj/TTfd5AYKYp6dCN5kBBPanFY7gvIZaxg19MfOnTt9N4QyuUeo554dCQ4g0x8cXqZ8xgDjh3EbiWeOeVBVUREQAREQgSwjIHGfZWhVcHYRICYeQYiHHAHIYVa8zggkBDihDV9//bWHyeDlJhyGhNeXsA7i1RHFHOQkfv+ff/6xYcOGucGAF5UDt4gsRD0iF7FHaA5eXN6ug1hL7Y9YcU/EHLHyHB4NDp4S0819wsU99yU+H9HHNeRPj+eecoK35RCGQ0gH9U+PuI/W1tC35RCixIFkYvRJxOIjOhHUCNNQcQ8zeCHCqQ/C/r777nMDKS1RzKFjjIbg8HPomMIrj/GDMKav2TGhz3h7DbsxxMTDmPf50++caUD0h3Mlpj00sbPAuGAHqFKlSm6MMUYwCjD26Gt2bNiFIQae8ZVWO4LyYUEZ8KJMQo54SxK7S6HiHvFOucGbeagHuwoYV9F4Ztczp/uKgAiIgAgkDgGJ+8TpC9UkiwmEC7Asvp2Kj5MAIhZjiB0IDkQriYAIiIAIiIAIpE1A4j5tRroiSQhI3OesjiS2nbAbQn6UREAEREAEREAE0kdA4j59nHRVEhCQuM85nUhoFO/bJzQltbfz5JyWqKYiIAIiIAIisH8JSNzvX966mwiIgAiIgAiIgAiIgAhkGQGJ+yxDq4JFQAREQAREQAREQAREYP8SkLjfv7x1NxEQAREQAREQAREQARHIMgIS91mGVgWLgAiIgAiIgAiIgAiIwP4lIHG/f3nrbiIgAiIgAiIgAiIgAiKQZQQk7rMMrQoWAREQAREQAREQAREQgf1LQOJ+//LW3URABERABERABERABEQgywhI3GcZWhUsAiIgAiIgAiIgAiIgAvuXgMT9/uWtu2UxgU2bNlmVKlVs1apVlidPniy+W84vPifz0h8ly/njTy0QAREQARHIfAIS95nPVCVmI4GcLFb3F7ahQ4daw4YNrXDhwpaTeUnc768Ro/uIgAiIgAjkJAIS9zmpt1TXNAnkZLGaZuMy6YJzzjnHJkyYYKVLl5a4zySmKkYEREAEREAEEoWAxH2i9ITqkSkEAnH/wAMP2MSJE+3333+3+++/35o1a+blL1261Hr37m1r1qyx4sWLW8+ePa1MmTKGF7hgwYLWsWNHv27y5Mn2wgsv2NSpU239+vXWuXNnW758uRUtWtQGDBhgZ5xxxl715b5Vq1a1++67z2bMmGHbtm2ztm3b2o4dO+yVV16xrVu3WuPGjf0z0rfffmvdu3e3RYsW+X3vvvtua9SokX93ySWX2LXXXmvz5s3ze1erVs369+9vY8aMsSlTptibb77p1y1evNhuvfVWW7JkieXNmzelPnv27LGRI0fac889Zzt37rTLL7/cunXr5ve86aabvG4kPqtRo4aHMUXiFant8KE+eP/Xrl1rc+bM2YtHpDYcdNBBdtFFF9ljjz1mF198sedp2rSp16N58+beD3/++af9+OOP9uWXX9qpp55q7dq1s4EDB3qfwQr+fM618P3hhx/siy++sHLlyjmn4447zsuFX9++fY1JrnLlyv7dkUcemZKPemPoPP744zZ9+nR74okn7JtvvvHP+vTpYyVLlsyUMalCREAEREAERGB/EpC435+0da8sJxCI+5YtW9pdd93lAq9NmzYugA899FCrVKmSC/patWq5+B03bpwtXLjQ5s+fb506dbK5c+d6He+8806rWLGii+E6derYjTfe6P9+6aWX7JlnnrHZs2db7ty5U9oT3Pepp56y+vXre5mI1uuvv96Nic2bN/s9J02aZKVKlXIhi3HRoUMH+/TTT/26d9991z87++yzXcRyj127dtlll11m/fr1s7POOstFKkL65JNPdrHKfQcNGrQXV7zyzz77rAt8hC7twsjh/6TUPPep8eLMQqS2v/rqqy66MYDOP//8fc43RGpD9erVo4p7jB/KXrFihZeJUYYBRL/QZvqONo8YMcJFOobTtGnTvJ3t27f3PE8//bStW7fOrr76ahs+fLiLfr7DsEDAB/ngTZkYQBdccIGPBQw9hD3GAn2lJAIiIAIiIAI5jYDEfU7rMdU3KoHwsJzdu3fbmWeeaa+99pp7Yr/++msXyaQNGza4Vxwhh1C/8MIL3RtdokQJq1Chgs2cOdOvR8QuWLDAcuXK5fnOO+88e/755z2sJUjh98V7zv0wIBC0pLp167qHvl69eu6VPvHEE+2www7z7xDtGAF40bk/Xn2MA1KoZxvvP0YCHnuEN7sStWvX3ovJNddcYzfccIN7/0nfffedtw0D5+ijj05V3AcHkEN54T2P1PbVq1f7d3i/U0vR2hDNc89ZALznCHrSk08+aYMHD065D7sieNrpG4ytzz77zJYtW+bXYhDQ5s8//9zz0Sf8JtHHfMc1iHt+460n/fLLL27IwR+2jAXafsIJJ6TaNn0oAiIgAiIgAolMQOI+kXtHdcswgdRi7hHzeNwR43hrx44d6+INEYmwC4QtgvqII45w8Tt69GgbP368x6Y/8sgj/nmQCBvBOxyIdj6PdF88y3jqSVdccYXdcccddtVVVxniGNFK2AuGAHXgnoT2cP8hQ4a44UG65ZZbPISFvHiX33rrLQ9NIdzmo48+snz58u3FCSHP9/wOEnXAEw2DtGLuA14rV66M2HZCYeBDmFBqKVobwsU9uxaIanYzWrVq5QZIjx49vFg874h3PPWkd955xz3r7F4Q+oNxFIh0+rR8+fLOBA//66+/vle//fHHH27gEI6Epx/jJEh8HtyrbNmy/l146FWGB6MyiIAIiIAIiEA2EJC4zwboumXWEYgm7g8//HBr0KCBvfzyyy7cENbEegfi/uOPP/aYe0Iz8M7j/SY0pmvXrh62Ey1lVNzjqW/durW/tYYdAXYK8Egj7hGtvXr18n+Hi3vi5cnLDgDef4yA8ITnvkmTJikx/MT745lG9B5zzDHpFvfki9R2Yu6jiftobaBdtI9rSHj5OdMQxNyHCu9o4p5dDMJvOHtAggf9i+eeWPvt27d7bH94Cn/LDoYKXBkTf//9tzPFMKDvlURABERABEQgpxGQuM9pPab6xiSy8dwTd44XnIO2hQoVcuGKJ5jQjsD7jeDEo8/BW+LeObBJzDshILfffrtt2bLFhg0b5nHsBQoUSKlLRsQ9HnwMCHYKatas6V5oBGcQwhNNGHND6vL++++7CCXUJzyx20BZxN0j5rt06WK//vqr/5+Ed/vRRx+1Sy+91A/Zhv9dgMBzj+iO1Ha85bGKe0Q83nFCihDn1CMWcR/EzmO00FecXyB+nh0Rdh3YEeC1n+wUYLjNmjXLrwkX93jtie1nZ4O2E3JF29jlURIBERABERCBnEZA4j6n9ZjqG7O4J1SEGGxEHKEwxGDz5hnCdDjISsIjjnANjSUnhIYwEYwAvP8ctkVgh6aMiHvCcrgHXmU8xuwefP/99+5p5xBoWuJ+1KhR7vlGwObPn38fHrSNMJYXX3zRxS6efkJREMAkBC8/vNkH4yCSuCeEJ1Lb4/Hc41nn4CxhMsWKFfO33dDujHruEemcEdi4caP/4Hln9+PYY4/1dmK48ZYdvqN/McjYwUjt/fictcD4IbSHcujv0DMVeuxEQAREQAREIKcQkLjPKT2leorA/wjgmedgKYJUSQREQAREQAREQARCCUjcazyIQA4hgJeaMBrCg3i9JyE9SiIgAiIgAiIgAiIgca8xIAI5kACvbySOnPAd4vWVREAEREAEREAERCCcgDz3GhMiIAIiIAIiIAIiIAIikCQEJO6TpCPVDBEQAREQAREQAREQARGQuNcYEAEREAEREAEREAEREIEkISBxnyQdqWaIgAiIgAiIgAiIgAiIgMS9xoAIiIAIiIAIiIAIiIAIJAkBifsk6Ug1QwREQAREQAREQAREQAQk7jUGREAEREAEREAEREAERCBJCEjcJ0lHqhkiIAIiIAIiIAIiIAIiIHGvMSACIiACIiACIiACIiACSUJA4j5JOlLNEAEREAEREAEREAEREAGJe40BERABERABERABERABEUgSAhL3SdKRaoYIiIAIiIAIiIAIiIAISNxrDIiACIiACIiACIiACIhAkhCQuE+SjlQzREAEREAEREAEREAEREDiXmNABERABERABERABERABJKEQLaL+yThqGaIgAiIgAiIgAiIgAiIQEIQKFasWEz1yLXn3xRTzv9liseyiOe+yisCIiACIiACIiACIiACyUggHn0tcZ+MI0JtEgEREAEREAEREAERyLEEJO5zbNep4iIgAiIgAiIgAiIgAiKwNwGJe40IERABERABERABERABEUgSAhL3SdKRaoYIiIAIiIAIiIAIiIAISNxrDIiACIiACIiACIiACIhAkhCQuE+SjlQzREAEREAEREAEREAEREDiXmNABERABERABERABERABJKEgMR9knSkmiECIiACIiACIiACIiACEvcaAyIgAiIgAiIgAiIgAiKQJAQk7pOkI9UMERABERABERABERABEZC41xgQAREQAREQAREQAREQgSQhIHGfJB2pZoiACIiACIiACIiACIiAxL3GgAiIgAiIgAiIgAiIgAgkCQGJ+yTpSDVDBERABERABERABBKFwD///GN//vmn7dmzJ80q5cqVyw499FDLnTt3mtfqgrQJSNynzUhXiIAIiIAIiIAIiIAIpIMAon7jxo1WuHDhdAn7oEgE/ubNm61kyZLpuIsuiUZA4j4D4+PLL7+06667zm655RZr3bp1BnLq0mQisGXLFrv44ott+fLldsQRRyRT09JsyzXXXGONGzf2n5yUXn75ZRs+fLhVqlTJHn300f1e9UsuucR69eplVatW3e/31g1FQAREYH8RwEt///332wUXXGCsFxlNzNN4+x9++OGMZtX1IQQk7kNgDB061AoUKGDNmjVLdZB88803dt9999m1115r119/vQZSDiewbt0669y5sy1btszy589vjRo1snbt2hneg2gpVNznyZPHqlevbhMmTLBixYplK5ElS5bYI488YjNmzMiyeuREcb9+/XqrVauWjRw50s4991w76qijsoxPpIIPZHHPYj1u3Dj78ccf7cwzz7SePXvaOeecs9/7QDcUgWQi8NBDD7lziTUsSKwBOB9XrlyZbU1lLXzvvfdsxIgRtnPnzgzXI2/evFavXj3r0KGDMW8qxUZA4j6EGwvO8ccfb++++25sNJUrxxDAu3DZZZf5z9133+1biBh1nTp1squuuird4p7JdfHixVauXDk7+OCDs7X9u3btslWrVnldsirlRHE/Z84c69q1q82bNy+rsKRZ7oEq7l9//XXr27evPfPMM3bKKafY448/bvQHP0oiIAKxE0hEcf/3339blSpVbMyYMXb66afvI+6/27rN+g8ebv/ZtNlOLHK8PXzvXXZC4UJ7QcDRNn36dDcOXn311dgBHeA5c7y4f+edd+yuu+7yMIHVq1fbV199ZTVr1rQrr7zS+vTpY9999517ZBFtJBabIUOGuJhjscHqvfDCC+3888+37du3pwwHvLnnnXeef4cQJIaMMii3SZMmdsUVV9iNN95odevW9fI6duxoEydO9AGJYFTKPgJLly613r1725o1a6x48eLuKSxTpsxeFfrhhx+sVatW7s09/PDD/Tv+f9ppp/mWYniib59++mlj8qLPR48e7WE5eO7POussmz17tt8LEYeXmDrwcNWpU8evf+KJJ4ydn7Jly9qTTz7pOwWMq2effdbGjh1rv/32m4+ntm3b2kEHHeTlsEOEIMXzXK1aNevfv79/xzjv0qWLe2cwRvFwMObnzp3r/37//fe9+uTj/9QzuO7yyy/376KV/+2331r37t1t0aJFVrBgQTd+eIZIkcT9X3/9Zf369bO33nrLdu/ebfXr1/dtVQweFqEdO3bY2rVr3WNLSBsLwG233WaEy7z22mu2bdu2ffqsVKlSVrFiRReHwTMFI0Jr7r333r26KFJb33zzTd9tIx177LHOnpCqIG3atMl3Xnh+qcvWrVu9bAw9yqxRo4YRjhcYbowP6otRR4gNZbNTQv3pO9r5yiuveDnMSXwW8KaP5s+f7x5s+DCfHHLIIWmOA1jNmjXLHnzwQR9b7M4wLjh81rRp031YZN+Tt++deb6oJ95EEvMzz8MXX3yhg3OJ1FGqS44jkJa4Z25jzrnjjjtcLP/+++8+VxBaHO07QLAeEb7I3IYnnXWEOYt84XN36I4181u3bt18viKFe+4f6NzTateoarWqV7F5Hyy2Sa+9aU/37bEXe9ZG6oomY/5GpyllnEDSiHuajvhhgf7oo4+cxGOPPebbwZ9++qlNnTrVwy3wyuLZRDghGhBYH374of/cfPPNng/BRbxYIAgR+JUrV/afQNwTP9uiRQsfxAgGFvEKFSrY+PHjM94LypFpBP744w8Xfwh6hNBzzz3nY2DhwoVR70GM36WXXuoinL4PTYhoxgthW+XLl3dhjcBLTdxzEIjQgzfeeMNFHGUhDD/55BMXMwi+Bg0aWPPmzW3y5MluXIwaNcrFPpPunXfe6fc6++yzXVhjNOCRR9winhGijEHadvvtt/ukjYhm9wCDIhD3tIc83I97YaxiBDM+EdjRyud6DBXK4tkhBI3dLD6LJO4JvZg5c6a3hfrSFowlfrMIIXgp4+STT3aDmwWiTZs2LvrgwzOWWp8hZGkLz/Kvv/7q/KdNm7bXgau02gpDyk7NWxwsVu3bt3f2MMR4Z3sbAzCauKcNTz31lC96jC+ENqwwLDkURh9NmjTJMFJgjmHGfPHTTz953/FDnmjjAOMGcRwYFMxxGEmDBg1yBwX9y7i86KKLMu0ZysqCXnzxRe8/fiuJgAjETiA94p45Cn3CmsEaxPzEXMJ6E+k7PO6UjcDGQUr4Kvlw3DBXh87dhx122F5hrMyHzKnM1+Hifuu2H+zejt1s4sjBKY1u1qqt9evcfi/vPXUjsdYwFweOpdhJHZg5k0bcIzxYxBH3LNR4SKdMmeJiAyGOaEMYINQQNkWLFrV77rnH3n777RSva2hYDh640qVL+6hgMSWtWLFiL3HPoK9du7Z79TESeGgUS5q9DxJC7+uvv3ZvOmnDhg3u9cZTiEiKlBgz5GUiDE9MVAgpBBUJDzye79TEfYkSJdzjccMNN/i17P4w7ghLIPXo0cPwciM2Eb4NGzZMOZzKVuaCBQvcuKQcvOeIPxK/EZoIb/JgeCKejznmGJ9M8cwjMANxjxcfzzAe3uAMAd5pPMWUG618PNUnnniiMXGTMGoRrEzqkcQ9TOB73HHHeR6MXerEIsEPzw6GCCkQ1IQQsfMRrc8Q2bQTgx3jgcWDZzY0pdXW9Ij7oC48xxhnOAPy5cuXprgPzYdhhzGJAUbCQ82uB/Gj8MYoDDzYjAf6BsMzrXHA7iL9TmIsYoCw6OLRYoeAxTDoq0jjOxE+Z8eJcfz88887YyUREIHYCaRX3AdzFHfCgYE2wiHBfJ7ad+yoopGYb9FVpJYtW7pTlJ3o8HyhLWAdZYeUupFCPfeffv6FjZk42Qb0+G8UBal9z77W+Mp6Vq7M/5/BCcQ9zijW8dR20mOnduDkTBpxz4DEy8eijEcQYXPrrbf6QsI2EYshFiChFYTysCjyQ2IQszCnJu7ZGsJgIIWLez5DxOH1ZxBi2SplPwE8xIS64DlHdP7yyy97TWLhNRwwYICHoDBW2IIcPHiwh1eR8K4G4pmwCFL4gdrQsBwmRcK0AoGHmCN8IxBniHoMR3aNEHyk4I07hLPgNcGTy1ikHAwTEuUQTsIWK15hDA1EbaFChdxIJdwmNCyHMCKeBX4HiTYhkjEeopWPCIMBYSmIXRYAwpBoRyRx//PPP7thxA4BoUvkYXLmgDITPaKff5PCxT2fReqzwKuPqKc9RYoU2WeyT6utGRH31IX+fOmllzxcK9xzT5+xVUyfhS9y5GOHAk89idA9+ovdQvIx97A4kjBQBg4c6Nve0cZBeKw+3rRhw4Z5fnZICFNiB5FdgUROjFm8f8zR7GgoiYAIxEcgFnGPg4E5FW0UPn8F32GAs4uNyA7CEZnTCVXEkx5N3D/wwAPuGArWynjEfaiDKD5SB2bupBH3WHf8BOI+8HaFintCNhD6DGxCcFho8JRGE/dsi3P6mxQu7vHc4kXFY0nZ3Asvp1L2EUCQEvaCQXbGGWekxE2HeihCa8fODmOGMIEg9j689oRCEKJBWAwJoUI/R4q5D33lYTRxz1YpE2lq247hoi4Q94zbzz77zN/6gqAjxpHxjLAnnjnUc88zEHqIFIOXPOweRCofMUrbiItnbOP1J9yMg5DRxD0GNYYRzxfPA952dsfSI+7T6jMOw1IPBO0LL7zg5yJCE22P1tZYxT27IrAI3fWJR9xj2CHGSXjscTLwOyPjgL4ntAnjgsmb8ljkKSNRE88O4UPsYsTyarxEbZfqJQLZSYD5hHOCOKeChJZhvuTcVWpOFNYKdpJZI8NFevAdIp6dYdaOk046aa8mplZm6AUYCBgC7PSSQsV9xLCcLg/bCYX+u+NLCjz3rHWEa+IkUso4gQNK3OPFxRuK8MAjH3hT8Z4hGBhIxMOyBYWXidjtaOKe7XTi2BD1PBgcLMGrl+hetIwPk5yTA880QhhvLl5tJjpEFKKIMIvQhIccLzZx6EcffXTERmLUIcI5uc82ZfD2j3jFPd5wxCohGng7MDKIy0fsRxLfN910k49L4uwZf8F5AEQ+IjQ85h5PCzyoK8Kd+zFxRyqfa/me0B0OYxGnjngMwk0iee6pFwsBYh4jgx0tPMrUMy3PfVp9xveIQ57R1F7zGcTcR2prrOIeTzxhVfQPzDEu2CWJxXOPocnuBXXBEcAP+dl8AAAgAElEQVT8Qn0R5xkZB4xDwp1Y2NmRohy8ZWyzJ2LinARjgZ/AsEnEeqpOIpDTCHDOCt2B0wnHC6GjeLvZ4cVxGQhx5mTmdXanCcvhPFgQc5/ad+wecx0Jxxa7t5ypwiBIbccylBvOCtYMnGbh4p7/t+nSy+pcWs0uq1rZ5i9abBOnpn6glms5M0YoabALntP6J7vre0CJe7bEERt461loEXTErxLCgdhB7DGY2fomxIYHJpK45wFioUfU4AnFs8nBNsJ/ctof+MnuQZiZ92ciIjyEg4z8m8OpiDH6OIgfDO5H3C+hMKF/7poYcIRweArelsP3hBUQGhGvuOesBuVQV0QQMY14/Qk9ieZZ/+CDD1zcceYDoccbW66++up93pbD93hSOBTLdexsEQdOilY+sfHEdvMGGMJSvv/+ezc4uEckcU+cPoYFIT2EJuFdZgHh2UhL3KfVZ3xP2FxwWDW18RKtrbGKe87c8HYt5gRi2vF4cY6H0JuMhuXAmzAdvGGEi3FWh50Utr0zMg5wULBwY/DAl/4gzjVRHQqMb8YSz01oYqcHY1NJBEQgdgIIdXQH8x96hhBAjH3OVgXiHgOAeYwdVdaK4G05eO5T+47a4ORkLWJXlF3TYL5iLYgWlsMZN+Y5dBX3C39bDt77voOG2boNG+2X33bYQ/e08DfnhCbmNXbHcS4xz+WE80Sx92DW5czx4j7r0KhkERCBRCFAGBJx8HjAlURABERABKITiBZCk1Z4TTxsOf+Il59QwWh/xGrNuvXWpe8A69XxQStRrGjKLRH3RFhgSOAcUoqNgMR9bNyUSwREYD8QYBcNTzk7J3iplERABERABNImkF3inl0EQjKZs4O/5xKptr/9+3KJAv97KxvXsEvAi04ImebcXLRw2bQJHNhXSNwf2P2v1otAQhNgkeDVprwdiHAfJREQAREQgbQJZJe4p2aEHxKiSdgPZ6IIrUwrIewJ5eGAMCHUeq14WsSify9xHx8/5RYBERABERABERABERCBhCEgcZ8wXaGKiIAIiIAIiIAIiIAIiEB8BCTu4+On3CIgAiIgAiIgAiIgAiKQMAQk7hOmK1QRERABERABERABERABEYiPgMR9fPyUWwREQAREQAREQAREQAQShoDEfcJ0hSoiAiIgAiIgAiIgAiIgAvERkLiPj59yi4AIiIAIiIAIiIAIiEDCEJC4T5iuUEVEQAREQAREQAREQAREID4CEvfx8VNuERABERABERABERABEUgYAhL3CdMVqogIiIAIiIAIiIAIiIAIxEdA4j4+fsotAiIgAiIgAiIgAiIgAglDQOI+YbpCFREBERABERABERABERCB+AhI3MfHT7lFQAREQAREQAREQAREIGEISNwnTFeoIiIgAiIgAiIgAiIgAiIQHwGJ+/j4KbcIiIAIiIAIiIAIiIAIJAwBifuE6QpVRAREQAREQAREQAREQATiI5Dt4j6+6iu3CIiACIiACIiACIiACIhAKIFixYrFBCTXnn9TTDn/lwnLomjRovEUobwiIAIiIAIiIAIiIAIiIAL/I7BhwwaTuNdwEAEREAEREAEREAEREIEkICBxnwSdqCaIgAiIgAiIgAiIgAiIAAQk7jUOREAEREAEREAEREAERCBJCEjcJ0lHqhkiIAIiIAIiIAIiIAIiIHGvMSACIiACIiACIiACIiACSUJA4j5JOlLNEAEREAEREAEREAEREAGJe40BERABERABERABERABEUgSAhL3SdKRaoYIiIAIiIAIiIAIiIAISNxrDIiACIiACIiACIiACIhAkhCQuE+SjlQzREAEREAEREAEREAEREDiXmNABERABERABERABERABJKEgMR9knSkmiECIiACIiACIiACIiACEvcaAyIgAiIgAiIgAiIgAiKQJAQk7pOkI9UMERABERABERABEUgUAv/884/99ddftmfPnjSrlCtXLjvkkEMsd+7caV6rC9ImIHGfNiNdIQIiIAIiIAIiIAIikA4CiPqNGzfa8ccfny5hHxSJwP/mm2+sZMmS6biLLolGQOJe40MEMpHAli1brHLlyrZs2TI74ogjMrHkxC+qYcOGdt1111njxo0Tv7IhNXz55ZdtxIgRVqlSJevVq1eOqvuBXtl27drZsccea/w+kFOVKlWsZ8+eVrVq1QMZg9qeAATw0rdu3doqVKhgrAkZTcOGDbM///zTHn744Yxm1fUhBJJC3A8dOtQKFChgzZo1U+eKQLYSCBX3efLksRo1atj48eOtWLFi2VqvJUuWWKdOnWz69OlZVo+cKO7Xr19vtWvXdnF/7rnn2lFHHZVlfFRw5hOQuP8v00QQ97t377aBAwfa5MmTbdeuXW5o9OnTx/Lly5f5Ha8S3aA9/PDDrXPnzik0mOebN29uK1asyDZCEyZMsLlz59rw4cN9HGQ0sW7Wr1/fxf0ll1yS0ey6/n8EkkLcly5d2rd/Zs6cqY4VgWwlEO65X7x4sZUrV84OPvjgbK0Xk+yqVau8LlmVcqK4nzNnjnXr1s0XI6WcR0DiPnHEPaJ+yJAhNm7cODeS7777bmNtPtB3VbLqqUpEcf/333+7UTd69Gg7/fTT9xL3O/9dg5rd09b6dGpnp5Uobj//8qvdfG9bG9Knu51U5IQUTBiDOKFGjhxpU6ZMySp8SV9ujhf35cuXt+3bt6d01OrVq+2nn37yBfuDDz5wj36TJk2sRYsWtm3bNt96r1atmmEdLly40GO7mJCKFCli69ats65du3pIBQOsQYMGbj0izD755BP/jvILFy5sDzzwgF155ZW2Y8cOK1OmjF144YUeW0as2cSJE5N+4CRyA5cuXeoeozVr1ljx4sWtR48e3kebNm1yT3qHDh3cu7R161Zr1apVqjs+eMIaNWpk8+fPN7y7jJl+/frZQQcdtE/T6W92j5jY6tSpY2PGjPExxBgrVaqUzZo1y+tBmZdffrl9/PHH9p///Mev5WfAgAEeZ1i2bFn/d/78+e23336z3r1724wZMyxv3rw+DvFmBF66SHVjfDJOV65c6QYv+WrWrOnitWPHjj7mSbSJ/y9fvjzlOuqWVvnffvut81y0aJEVLFjQWrZs6ZxIkcQ9B6pgN23aNMO7V69evZTnigWKZ2jt2rV2zjnnWMWKFW3s2LH+jPHZ7Nn/196ZwGs5pn/8QpMlS2qKtFhTaSxhQhhCMhlURKnUtChS0SJEhEjLNJVsLUwKRdpFtiRLsk2mNKXBZ6aYUilLJcx/vtf87/N5zuN93/N2Ou9Z3vO7P58+53Te57mf+/7e2++67ut+3lcsUXvClbFMOzdq1Mif36ZNG7+/e/fuudooWV3nzJljPXv29GsJ7YD96aefXpy7doksG5yHDBni8y/z9YgRI6xixYqWqi+lO/5C/9mwYYOtWLHCjVf6WqVKlZzVwoUL/f+MN8Ll+P2AAw74BccQmrVx40YvI/2KMjJPTJ061WrVqpUzdgYPHuzPSaf/pZpz6JfnnnuurynB+EcQzZgxw0P6mHPoy/Pnz3d2vXr18rGC4GHuIgSud+/eOWOWvBYtWmTUgbmif//+fkCRdWncuHE2ceJEn1dYD7mPuQzO/GOO4m9hLEcBpRq/0euYS2vWrJkzppi7aOtM7haWyAFRQIXOS9zT95gbO3Xq5OvItm3bfL2j36T6jOIlW3+4D/HeoUMHHxv01eiuNOvlwIED7aWXXvJaxj33z728wBa88bYNGXCTPfDo4/+9Yje79o9tchFBe1FWxuHs2bPt8MMPLyBipSubEi/u6Uzt27f3Vhs7dqw1bNjQWrZs6eKKvyMQ8M4xySDAmZBJCCDEPBMe4Tz8v3nz5v43OieT5LRp0zyUATHCxImhQDwxHXf58uV+L4IM4Ugif8QBgkepaAhs377d2wEB2rhxYxs/frxNmjTJ2zNMTEyKXbp0cdHYunVrW7JkiW9vRhNCE/HKoscEhfBlUad/RRMimslyzJgxPhnRj2bOnJlQ3B911FFWu3ZtmzVrli/ACFEWdQQ2bwig37Ios61KGZngEPj0yVatWhkiCSMhVdmaNm3qZWVCZ1HFkFm8eLHXNYh74hm5hnLzLMYKfXby5Mmed6r8mdSZzMl36dKlXi52zChXMnHP9ixjhraAJWOoW7du/nzqyTgjj+rVqzu7fv36uffvpJNOyhlXidqTsUldEI7ffPONx3jOnTs312GsvOqK8UCcPT+VCp7AsmXLfIwxN9OvMKDoN1OmTHGBkKwvpTv+Qv+h3RH0GLMY1ThsGDfM6cTwIsb5DEE7bNiwXBVl/HXs2NGdMtWqVfN4Yeb64cOHu4ChP/KzXr16bsTTV6dPn+5rQ179L9Wcg0GSStwjoghzYU7AKGedYo4YNGiQrV271sPJKDOGLh5y6sY4w7nVuXNnr1Pbtm297PBn/OE4YPzh7GrRooWvh2XLls0xKBLtMKYav1GQ5AvvcOaG0BDKzPyiVPAE0hH39CHGHI5IHJTM1why+kGyzzAwk60/9A/uw7mJvipXrpxxCDakkSNHuqOKOZkUF/c4d67ufYu1uLiJjX38KXt01FDbb99yueCEMC7WE8qbyOAseJrZl2OJF/c0STQsZ/Xq1S5c8IgyMSL2mNjxTiCUgrjnOibX+vXre1wX3lYmy3Xr1nnH5B68Iwg8RBUTKpM94il4XBD95BnEPXkqFS0BFlvaoU6dOl4QOjiCnJAU2paJCcMMAYBHi+tYqMP1ofTs6LD7w+JIYpEiH8RwNA0dOtSNBiY1EhMbfS2R5548EZJMWCT6GAYB248kBCzef0QD4gaPHaKZxBY34oJFO1XZmAgZD3ho8DxSNjz4iIMg7vHiE6fJzzAxBy8fdU6V/8qVK61q1ao+qZMYO4wN6pxM3MMEARG8qX369HHPfN++fX0RQQTMmzfP8wtiKoylVO1JfCmeTUKfEFyjRo3y3YFoyquuEveZHa94wDdv3uyGMWnLli1GTC7Gdaq+lO74Y3xiQLAbRqIvYTTyNxw69D3EDQnPPp9hXEQTO7+UMYw1vPgYH/TFeH+kzzEGGd9vvvlmnv0viPtEcw4iJi9xH70P5wAe+OBguPDCC90oZx2CF2M66ujC8YUDKi66WeuYDxD83Md8E5/XonxSjd/odXExRtmZj/ipVPAE0hX3oQ9Rgq5du/rZIgzG6FoY/QyjMNn6g66K3xetGQY06w5zOylRzP0HHy2zXgPuth6d21uzJo1/ASaIe/o2zrCwu1rwBLM7x6wT9wsWLHCPRTwh3ogDQ9zzO4KdhQbBhAeVQ49M+gMGDPAFIhzqYOLDSGBCZMJHjGF9Yt0ySJg8Efd4Gdm+VSp6AnivaBe84yxMtDMTHMZafGLC60W7Ioijif+PHj3at8ZJLH4NGjRwb3oQ4/Qz8keoIlhJ8QO10bAcJkzyDIszeSKKw8LK2y6+//5796oRSoN3JXjSEP0IGSb0ZGVDdODR4xmI2sqVK7tRgLEbDcvB24eHHJEVEgdKES4s+KnyJ4QArygGLsYRRtOECROcazJxj3BiDCGIqAf3IO6oSzxmGjFFufDmh5SsPWFDm5A39alSpcovFoK86ipxn9nxihecbfVEC3SqvpSqD0ZLzPjB0AzGIWOeHRwMPgxpdsmib63C2cNOXTBOySuErYTQBfonO7L0Qfoju3Ls/pLowxj6rBGEYObV/+LinjzCnMNuYVzcI7YJRaDMieYqysP9JEQ9O3Q4nEJ4KeKLBA8cDuzehdcKBg5h/cKISecgbqrxG20Lwn3wEAfPPespcxaGFzxDYhcRY19p1wjkR9yzs8wuMbtm8f4VPqPNkq0/tHEqcU/oGCHOYT1MJO4Xv/+h9b9nmHVqfYW1bPa/UNNoCuI+6gTaNVKl8+6sE/csGE2aNPHtVUQIiUkYoYQXHnHPhIbQj4p7BAqTDl5OOhdinm1MxBGHg/DQ4wkiDj94g/Gc4JlC3AcDoXR2o+JTa0QnC0yIkw27LDsr7uOLXhD3COhoYpcHQRE8k4hrvNnJYu6jr6tLJu7xomM4Isjpx/GUrGzt2rVzjyX3skWP5w4DBIN31apVuTz3GLHRQ6R4/biHkLRUdaduCDWEPF5/dr7YvUgl7onl5dwAiweLOt52QnDSEfep2hMDnJ0GyoGYIZSHmN9ooo6p6ipxn9mxy/yIwUq/J7ETgxGJKE7Vl9Idf4SpEH5D6BmJ3QDGP+OAMUmISggRSFZT5gpC9zjrwRrB7+zmBXEfNTaj4p788up/qcQ9Hk4YYEwEsbsr4p6dP0KgSIwFdrNwciD+OY+SKLwhHXGfavxGmRKqUaNGDQ/ZIGFYEAIV4q8z29NKX+6MKfo3EQUh0eb0SXZmEvU91gMckeiYuEgPn2G8Jlt/EuUZJc8cjwOH3VxSXNyjxTpe38+uvqqV/fnhCfbw8HvswNgZmCDu2YVCr7HboLTzBLJC3LNQ0MnpBFikeDNYQJj48arivWGLh4k0mbhH7HPgio4VDhrixWSbicUCDwsHsQipYLLCK8E9DBSJ+53veJm6A68copkFGc81Ex3hLcTGE4aVruc+XXER4ko55Ma2PoKCrfNdEfcIojChcQAQzyJxr0zIeO2SlY0FnPMGxAgTfhDOA3CokJCEeMw9fZkJlJhjdgsQBPTlZPlzLZM+TPHs4M1EoIdQgWSeezxBGCls1WJk4P3BSGJs5eW5T9WejFU+Z5wj6hMd3Asx98nqKnGfqZH4v3zpg4gF+gg7VzhcMDoR1Kn6UrrjL8Tc46lHmNPHMSYI0eLZtDued9YIPMicoeG8SDSx08UcwY4c97LTRX/FMIzvJMXFfV79L5W4ZweZ0Dyey7qEgUo4XX4894QvEPZG/didoN78Q+yzTnGehucQUkfMNd5bxH464j7V+I1yJCSO+Y/dMnZG2J1jPqFNlAqeAH0eQQ5z1jW+NApvN30dB1Hoe8y7zN28BIF1BT0UYu4TfUZUQrL1J9GOUrRmrCE4k3CMJhL3z8593j7828d2Z78b7C9TptmGjZus1zWdcsEJ4p5xyFiNn3MreJLZmWNWiHsmYLyHhEyE7VNEEZMzEx2dHe8dnslk4j6E5eC5xJOCkGcHAAHCGwfCGzvwDOHdRwwxOYa35chzXzwGCEKYHRbEA7/TRhy2YycmHAaKxiAmC8tJV1xQ6/C2HDzJTEgI8V0V9xireD9CXDznQZiw8fClKhtviCIcAW8m/RQvebNmzX7xtpzwZiiMVK7r0aOH93dSqvyDN463d/DmIc4xIOp5RjJxz5hhgWdXrW7duu61Z3FhrOUl7lO1J8YUnxOLHA4aJuqFqeoqcZ/5cYtYZX4ObyvDk87biVL1pXTHH/2HMBOEDf94qw3PIn8Sop3wFD6jvzCGmKujicPY9E8O3XMfQgnRTqhXXuI+r/6XStwTeoTQoryIYUI+cRLwzJ0Ny4EX4xfDiZ3EMF8w5+Et5VAxcyJ1xaDA60v4RJQzziwMIK6NplTjN9578CIzH8IFhxjrbjQEKvO9rXQ9gbFFezHHVahQwR2R7JygWULfw9nFdWHXNLwth36e6DMIJlt/4ufW4rQRlISL4VzleVHP/ZZvvrX23fvYiLtvs0OrVbXwasz7/vvmnCMPq5GTFeKeHXDe9IMBo/6Tvz6dFeI+f1XXXSIgAtlAgHhezk0g7JREoLAJZEv/wyGGs4rwHqWSTyBVCE1e4TW7UnsiJziwi6GRny+xQtyzw8cZORxASvkjIHGfP266SwREoIgJsFNHXDTCHg+okggUJoFs6n942hFkeN5lJBdmL8rcs4pK3LOLQEgWobF43elb6SbOT7E7QHg1O03sRijlj4DEff646S4REIEiJsACwiszCbsg3EdJBAqTQLb1P0J24t/3UZg89ayCJVBU4p5acM6LMExEOl+Clo7AR9gTTsSra3nrE2d0lPJPQOI+/+x0pwiIgAiIgAiIgAiIgAgUKwIS98WqOVQYERABERABERABERABEcg/AYn7/LPTnSIgAiIgAiIgAiIgAiJQrAhI3Ber5lBhREAEREAEREAEREAERCD/BCTu889Od4qACIiACIiACIiACIhAsSIgcV+smkOFEQEREAEREAEREAEREIH8E5C4zz873SkCIiACIiACIiACIiACxYqAxH2xag4VpqQQiH5te0kps8opAkVN4IsvvrAzzjjDPvjgA9t///2Lujh6fgkgsH37djvmmGPs5ZdftsMOO6wElFhFFIGiJyBxX/RtoBKUQAIS9yWw0VTkIicQFfcrV660W2+91Z5//vkiL9e7775b4GV57733bM2aNXbxxRcXef3iBchEfTNVSYn7TJFVvtlMQOI+m1tXdcsYAYn7jKFVxllMICru+TbKjz/+2E488cQir/HWrVsLvCxjx461d955x/hZ3FIm6pupOkrcZ4qs8s1mAhL32dy6pbBufOX2OeecYzfffLM988wztn79ervuuuvsqquuss8++8zOPfdc/1rsMmXKOJ2jjz7aZsyY4SECZ599tnXv3t3mz59vX331lfXq1cu+++47e/bZZz2fyy+/3Hr37u33Ie7Ja9GiRbZx40a76KKLrH///v712XzV9rhx42zixIn27bff2pVXXun37b777n4f/9hi5m+XXXaZjRgxwqZOnerPOu+88+yuu+6ycuXKlcLWU5WzkcBTTz1lDzzwgP3444/+tfKPPfaYh+Xw75ZbbrE33njDGLc7M/4YV/fcc4+98MILttdee9lNN93kYzDV+IctuwR8vT0edb7enjyOPPJIe+2113LKwnULFiywu+++29auXWvHHnus/16zZs088w/t169fP59/SFWrVrWFCxfmOS8wF7z++us+T8Hivvvu8zmD+er222+3v/3tb3bwwQd7XZknSFwLww8//DDns/PPPz9njorPNaF88fqmMwft2LHDy/Tcc8/Zzz//bH/4wx+8LGEujfbdZPlt2rTJd0h4/n777Wc9e/a0li1b+q3sdNx77732ySefePjNnXfeaccdd5zFxf2XX37pn7399tt24IEH2jXXXOPzKG1/1llnWYcOHZw98/qhhx76iyGV7P5sHHuqU+klIHFfets+K2seJvgbb7zRunTp4gtG69atbcmSJbZhw4aU4p6F4c9//rOLBAQHBgELz6BBg3yRv+CCCwyhQvwnCz4L70svvWRff/21de7c2Tp27Ght27b1hQVv3fjx422fffaxK664wq6++mpr0aKFnXrqqVa2bNkcg4JFn4UbcY9IIQ9ikjEslESgpBNAkGIUjxkzxk4++WTv6zNnzkwo7ndm/DG+t23b5uL8008/tVatWtmcOXNcaJJPovGPID3llFPc6EY0Dh482FasWOFjOip2EZfNmze3UaNG+XidPHmyG+sY5BjyyfJHrEZT3HOfal7A0ECo8gy86gh0ytewYUNr2rSp/79Tp05unOC4WLx4sc8j/B2+f/zjH50pQpfykl98romK8Gh9X3nllbTmoIceesjnO+Y1ysi81q1bN39+NKXKjzkZR8qAAQPcwGrfvr0NGzbMfvvb39ppp53mor1x48b+jEmTJrnzJC7uEe+IdjgsXbrU2/7FF1/MafsbbrjB88VBsttuu/1iCCW7X/H8JX22UfmjBCTu1R+yikAQ98uXL7c999zTvWV16tSx6dOn2957752nuI/ed9RRR/mizgJLuvDCC33xxGOFt++2227zRYTEQo7XDeHAooc44CcJTyXGAtdwH54rFmMS4r5v374ufurVq+feezycFSpUyKp2UWVKJ4GhQ4e6R3XkyJEOAEGHNzmR5x7RnM74Q9AiXtlhC4Ls2muv9fHDzkA8nzD+8aAjeDHWEZB77LGHi/UqVarkEvdDhgyxdevWuegMCU85O20Y9cny5zmpxH1e88Idd9zhzgESjgXmHeYJvNI8lx3IihUrOk88+MwpzEEI9SBiw+4hecXnmmjZouI+3TmItsOgqFSpkmfVp08fO+igg3z+iqZk+TEfY1QxTx5yyCF+C4YAYp+/r1692udqEsKE+hO2xRwePVDLWQ3aMuxunnnmmd6mRxxxRK62STbikt1Pv1QSgWwhIHGfLS2pejiBuLjnbywMU6ZM8W3geFgOC+Ds2bN9gYku2uE+vG3cT0LU4z3Dk8Z9999/v4sJ0rx581zA4FnjM1J4GwgeQ8J/nn76aRc2hN3wrJB4Bp57PJCIDhbN8uXLq0VFoMQTQPghAOnTpGjMfTwsJ93xd/zxx3tYCrtiwRuNQYwwJgQuUT6MfwQyB0kffvhhNy5OOOEEF6a1atXKJe7ZNatRo4Zdf/31OfzZUcMwiBsP0fmF/KMp7rlPNS9w7+jRoz0ch4Sob9Cgge8IsmvIZwjyypUrG4YMBg47DuyCPPnkkzmPpW7UkWenOhcUD8tJZw7avHmz72zCDt4Ibzzx7JLEU6L8MKQo96pVqxJ61NkVwDnCdRgSW7ZscWMvMA5vyyFMibmXkCSEP+WYMGGCz7vxtk80gJLdH52TS/zAUwVKPQGJ+1LfBbILQCpxj9cLLw+LAR4o0q6Ie7aQCfkhPf744741zOKE+G/Tpo173OIpvuB+/vnnHqePJ+ubb75xQYEYItxASQRKOgG84Ig1QkxICFXGYF6e+yDoEhnXCHsEPgK1WrVquRClGv+MMc7SIOYRpwhEDHtEY1TsUmau42dIjRo1MsI98DCnMh6ihYmL+52ZF4K4b9eunS1btszrSxggXm8MDc4EIJIJb6HsIeHJ57qBAwemLe7TnYPYuSB0kNAq5k/OJ1WvXv0X4j5ZfuwqwI9Y+eD9JwSKvHCAXHLJJe7koH3C+ahE4p7+Q6z+pZde6kZC/fr1jR2idMV9svsl7kv6bKPyRwlI3Ks/ZBWBVIs7W768meORRx5xLxzedra68+O5r127ti9QCANiQon75B9i/9FHH/W4V57D9s2FwsAAAA8iSURBVDEHuwgBQOzHxT3hOJQDzxM7C3jB8Nrj3VcSgZJO4KOPPvIQEw6lE0KDyCfUbVfEPSK5a9eujoYDnnhviQfnlZPJduDw3DNOEct4vJkLMMTxemOUR8U9opmxythEOD7xxBOeP2OdA6HpinsM/mnTpvnzEMU7My8EcY+TgFh0DugS2x7OMBD6Qow+nnDmHcIDOVTL2R6ei4hO13Of7hzEzgjGFLsdMGKXhJ0FDtVGU6r88PQTcsghYF5SQHvgJNl33319t4L2YHeCsCLCrqgvxkoIy2E+xdDhc4y8V1991edM+hQHnvPy3HMoONn9IfyypI85lV8EICBxr36QVQRSiXu2vmfNmuVeHuI1OeCH6MA7uLNhOSycTZo0cU8ankkO2+KZIkzgp59+sgcffNC9UHjjMSgQ63gO4wvuDz/84J/NnTvXvVcYHXjtFXOfVd2yVFcmvC2HmGvEKEJ5V8U9h9iJsw7x5mH8ESufSnxz/oXDmoxZPMR4uJkX4mEqiEZi7plPMAQQkxj0ec0v0YYmBAnBSogJRs7OzAvRsJy33nrL39ZD2B6x9njMmzVr5o/ib3jSOVjKZz169PB5iZSuuE93DiJWHVFOWEvdunXda09oFAyjKVV+0bflMOeyU4nRgoEW3rDD7xhXzIm0F2ciojH3hD7SNuyu8GY02hwvPodyo23Pzsn777/vc3E0Jbs/MC3Vg1WVzxoCEvdZ05SqiAiIgAiIgAiIAATY1eEFBewMKIlAaSMgcV/aWlz1FQEREAEREIEsJoD3n1caDx8+3HdolESgtBGQuC9tLa76ioAIiIAIiECWEyAkMv7dA1leZVVPBHIISNyrM4iACIiACIiACIiACIhAlhCQuM+ShlQ1REAEREAEREAEREAEREDiXn1ABERABERABERABERABLKEgMR9ljSkqiECIiACIiACIiACIiACEvfqAyIgAiIgAiIgAiIgAiKQJQQk7rOkIVUNERABERABERABERABEZC4Vx8QAREQAREQAREQAREQgSwhIHGfJQ2paoiACIiACIiACIiACIiAxL36gAiIgAiIQLEjMGPGDBs3bpzNmTOn2JVNBRIBERCB4kxA4r44t47KJgIiIAIlnADfFPrcc8/Zs88+a506dbJGjRqlVaOouH/44YeNxWrQoEFp3ZvJizJRllmzZlnVqlXtpJNOymTR85V3Juqbr4KkcVNx5phG8XWJCBQYAYn7AkOpjERABERABKIEPv30U2vRooWdfvrp9tZbb9ndd99t559/flqQouL+iy++sK1bt9oRRxyR1r2ZvCgTZencubPVr1/f+FncUibqm6k6FmeOmaqz8hWBRAQk7tUvREAEREAEMkIAQf7zzz9buXLl3GPft2/fpOJ+x44dds899xje11//+td2/PHH2/Llyz0sZ8iQIfbll1/an/70J3vmmWfs8ccftyOPPNLef/99+9WvfmV33nmnX7d48WL74YcfrH///ta4cWOv02effWYDBgywDz/80GrUqGHDhw+3WrVqeT5Tp07139944w2/dvDgwS6ySSNGjPDPv/vuOzvvvPPsrrvu8npEy/Kf//zHHnnkEZswYYJ9//33Xrfbb7/d9t9//zzzD8DJGyOIdPHFF/tzv/32W2fxwgsv2F577WU33XSTXXTRRfavf/3LzjnnHLv55ps9//Xr19t1111nV111ld///PPPO6M1a9bYb37zG88DTqQFCxa4cbV27Vo79thj/feaNWt6nmeddZZ16NDB88SoOvTQQ3P6Q7S+7MLceuuttnDhQitbtqy1adPGunfv/ou+Q1vRJm+//bYdeOCBds0119hll12W6zqeS91pswMOOMA/oxx33HGHnX322R6SNXHiRGdx5ZVXWu/evW333Xe3n376yRk9+eST9uOPP1rTpk3ttttuswsuuCAhR+rJztGee+7pnLp16+b53Hjjjd62//jHP5zV0KFDMzIGlKkIFAUBifuioK5nioAIiEApI5CXuEfMPfHEEzZ27Fjbd999rUGDBh6qgpCMi/t+/frZyy+/bIcddpiL9QceeMAeeughNyDmz5/vYvi9994zDIYmTZq4OESIItZ5DvdOnz7dyAdBW69ePc/jxRdf9L+/8sorLtK5HnHdsWNHO+OMM6xXr165yoLAHD9+vBG6UqlSJReZ27Zt8/+Tb7L8400f9zgjPMkHcY7wb9WqlRsvZcqUcQHM5126dPE6tm7d2pYsWeJG1CmnnOKC+LjjjnNDZcWKFfbUU0/ZJ598Ys2bN7dRo0bZqaeeapMnT87hsHHjRs/zhhtusPbt27sBs9tuuyUU96E8I0eOtH/+85/WsmVLGzNmjLdVNGEoYCBghCxdutTLD1vaK5rY1eEzyoYhh/hmh2fmzJneD2C7zz772BVXXGFXX3217wJhSE2bNs0/R7Bj3Jx88sku/uMcqRMc7733Xtu8ebMzu/zyy92QgSH5UK7q1au7kagkAtlCQOI+W1pS9RABERCBYkwgL3GPZ7dZs2YuVkkIekTy6tWrE4p7/k569913XfyF/yPiTjzxRPcI//3vf3eB/frrr+cIVj77y1/+kvNZNB/E4QcffOAGBbsMCFeEPx5evMQVKlTIVZZLL73UBS6ik/Tvf//bhS5iGwOBZyfKP5W4Z+cBTzJGShDD1157rZfj97//vQtxhDDClp2DOnXquEGCIYRw51wCuxZ77LGHIdyrVKniZV63bp0NGzYs59F4zRHEePGjecbLFjWs8G6zW4LIP/zww33nAPGNQRBNK1eu9PKEv5955plert/97ne5rsMQefPNN90ww2D46quvfIeE9kTw85P02GOP+e4Kgp4+ghHATxIGDM9j1yMq7hH1cKQd2LEhsSv04IMP2rx581zcf/TRR/67kghkGwGJ+2xrUdVHBERABIohgai4J7TihBNOyCklHmjEJqIRDzkJ4Tdw4MCE4n706NH22muv+XWIcTyx/CRt2bLFhfCiRYs8FIUwEsJkQkI833///bZhwwYX76+++mpOPohGBB8phO3gOUcs9+nTx8qXL59L3CPk2Tk47bTTcvKvW7eue8sxLFLlH22iqCjlebBANOOpJ2FYtG3b1ncg4kL8mGOOsSlTprhIx9DBIIIFfDFQCDtixwGBe/311+c8lt0IjIG4wRDvOlFxj2BGHBP+Q8gV5cGjTphLNFF3GBMShQHy8ccfu8edskcTbdCwYUMP30HI01bsPoRQotBu7EocffTR9vTTT3uZMQS4Lp6iHHk2HBH+oXx//etffQeHNkbcE/7FTyURyDYCEvfZ1qKqjwiIgAgUQwJ5ee7xguO1x2NLIq4agZjIc084DCEVpFTiHlFJDDee+HhCvMfzCeL+888/9zCNQw45xIgzRxQfdNBBbnxExS5lJqwkxJPjyUZ8vvPOO240JMs/lSglxpzzBhgv1apVy3VpiI8Pnns+DOKesuL5RsxjDMBu9uzZHoJEmfmMnyHRHoStEMKTrud+2bJlHsKC6IYRQhmj55JLLslVTjz1PXv2NPgQ4sM5Brz+cXHPTYQCYdA9+uijvsOCECeOnrzjcfpcj8ceY44zCCSYE+OPcRMV9xgf/A0DL3CEBwYXxonEfTGcJFSkAiMgcV9gKJWRCIiACIhAMgJ5iXti4efOnWuTJk1yYY3A5TAmYRvxmPt0xT0ilEOuGA28hpM3vxACwoFbBF4y8Y0AJFwDb/N+++3nQhCvPSEj0bJwP9cQLlKxYkWP08cY4P+pjIc4I+LGMR44K0Ddu3bt6pfcd9997vmmzISdUJ9knvvt27dbu3btfNeAUB12PigfMeWrVq1yoUy9ENqcbSBPhP+mTZvSFvcYPwcffLAflmWHBMMGwycIbcrMOQfaDqMKzzlGDvxoX7z08YSRxucIdtqFhNDnXACHlQnv4ZAvYUbUAd7E5LODQNgPRkTt2rWdXZwjxgs7NcTcU152GTAe6QsS95qrspmAxH02t67qJgIiIALFhEBe4j68LQfRjVDmne+E6yR6W0664p54c0JEEOV4nRHqCDy8wqnEN4KQezA2CAnBG4/XPh5zj/AmDAaxzNty8EAj8DFKdkbcE0KEECWUBsPg66+/9hh1vPd4vnkTDMKXuPlUYTnEpnMIlVh7PPiENeG9JiGyibnH+4/4R3wjihPtBkS7TNSY4S08hM5wpoCwIbzonCuIh+XQhjyL3QLe7kO58eKHOPlo/mGnAgEfykrYFuKdA80YS5yToD3YneAz3giEEcPviPVbbrnFQ5jiHLkXjsTdc0aBa3v06OGGgsR9MZkYVIyMEJC4zwhWZSoCIiACIiACIiACIiAChU9A4r7wmeuJIiACIiACIiACIiACIpARAhL3GcGqTEVABERABERABERABESg8AlI3Bc+cz1RBERABERABERABERABDJCQOI+I1iVqQiIgAiIgAiIgAiIgAgUPgGJ+8JnrieKgAiIgAiIgAiIgAiIQEYISNxnBKsyFQEREAEREAEREAEREIHCJyBxX/jM9UQREAEREAEREAEREAERyAgBifuMYFWmIiACIiACIiACIiACIlD4BCTuC5+5nigCIiACIiACIiACIiACGSEgcZ8RrMpUBERABERABERABERABAqfgMR94TPXE0VABERABERABERABEQgIwQk7jOCVZmKgAiIgAiIgAiIgAiIQOETkLgvfOZ6ogiIgAiIgAiIgAiIgAhkhIDEfUawKlMREAEREAEREAEREAERKHwCEveFz1xPFAEREAEREAEREAEREIGMEJC4zwhWZSoCIiACIiACIiACIiAChU+gSMX9mjVrrHLlylamTJnCr7meKAIiIAIiIAIiIAIiIAJZRGDHjh22fv16q1q1ar5qtdt//pvydef/37R161bbtGmTURAlERABERABERABERABERCB/BMoW7aslS9f3vbee+98ZbLL4j5fT9VNIiACIiACIiACIiACIiACBU5A4r7AkSpDERABERABERABERABESgaAhL3RcNdTxUBERABERABERABERCBAicgcV/gSJWhCIiACIiACIiACIiACBQNAYn7ouGup4qACIiACIiACIiACIhAgROQuC9wpMpQBERABERABERABERABIqGgMR90XDXU0VABERABERABERABESgwAn8Hy3+l7oytvJqAAAAAElFTkSuQmCC)"
      ],
      "metadata": {
        "id": "kcLFp0T8EAKw"
      }
    },
    {
      "cell_type": "code",
      "source": [
        "Tensor.shape"
      ],
      "metadata": {
        "colab": {
          "base_uri": "https://localhost:8080/"
        },
        "id": "xc3cOEDICRIj",
        "outputId": "39f1f2bb-0334-4ec9-ee5c-22deb53a3d43"
      },
      "execution_count": null,
      "outputs": [
        {
          "output_type": "execute_result",
          "data": {
            "text/plain": [
              "torch.Size([2, 2, 2])"
            ]
          },
          "metadata": {},
          "execution_count": 78
        }
      ]
    },
    {
      "cell_type": "code",
      "source": [
        "Tensor.ndim"
      ],
      "metadata": {
        "colab": {
          "base_uri": "https://localhost:8080/"
        },
        "id": "tgVphxLSCZ9D",
        "outputId": "84d967ce-33ee-4ecb-d413-75aa7a3e6d4a"
      },
      "execution_count": null,
      "outputs": [
        {
          "output_type": "execute_result",
          "data": {
            "text/plain": [
              "3"
            ]
          },
          "metadata": {},
          "execution_count": 79
        }
      ]
    },
    {
      "cell_type": "markdown",
      "source": [
        "###RAndom Tensors\n"
      ],
      "metadata": {
        "id": "VS80CgvWEq3L"
      }
    },
    {
      "cell_type": "code",
      "source": [
        "#create a random tensor of size (3,4)"
      ],
      "metadata": {
        "id": "yqGUbE61Ep7-"
      },
      "execution_count": null,
      "outputs": []
    },
    {
      "cell_type": "code",
      "source": [
        "random_tensor = torch.rand(3,4)\n",
        "random_tensor"
      ],
      "metadata": {
        "colab": {
          "base_uri": "https://localhost:8080/"
        },
        "id": "4Uvf9AaYCZoy",
        "outputId": "a048785e-df06-4d51-dad9-220469e92feb"
      },
      "execution_count": null,
      "outputs": [
        {
          "output_type": "execute_result",
          "data": {
            "text/plain": [
              "tensor([[0.3835, 0.3716, 0.6148, 0.9165],\n",
              "        [0.2189, 0.8172, 0.0127, 0.9409],\n",
              "        [0.8234, 0.7092, 0.4973, 0.8879]])"
            ]
          },
          "metadata": {},
          "execution_count": 81
        }
      ]
    },
    {
      "cell_type": "code",
      "source": [
        "rand_tensor = torch.rand(10*10*10)\n",
        "rand_tensor"
      ],
      "metadata": {
        "colab": {
          "base_uri": "https://localhost:8080/"
        },
        "id": "03gk1uyLFbXw",
        "outputId": "073bd4ab-8c4a-42cc-d1d2-49a36a5bc4ac"
      },
      "execution_count": null,
      "outputs": [
        {
          "output_type": "execute_result",
          "data": {
            "text/plain": [
              "tensor([2.7828e-01, 2.0871e-02, 6.5917e-02, 1.0457e-01, 5.1629e-01, 2.1527e-01,\n",
              "        2.1939e-01, 3.7172e-01, 1.1373e-01, 7.6035e-01, 1.4289e-01, 8.4018e-01,\n",
              "        9.9757e-01, 5.5181e-01, 5.8597e-01, 7.8412e-01, 7.6218e-01, 7.8389e-01,\n",
              "        1.2574e-01, 4.1990e-01, 9.3698e-01, 4.3114e-01, 6.1106e-01, 8.7636e-02,\n",
              "        4.6289e-01, 7.6731e-01, 1.4379e-01, 8.4308e-01, 1.2131e-01, 8.8665e-01,\n",
              "        5.3240e-01, 3.0057e-01, 1.6675e-01, 1.3579e-01, 5.1605e-01, 9.0356e-01,\n",
              "        7.1813e-01, 7.5372e-01, 8.2122e-01, 2.5713e-01, 4.9837e-01, 2.1540e-01,\n",
              "        3.8826e-01, 6.6472e-01, 4.1632e-01, 6.9787e-01, 9.8014e-01, 2.5272e-01,\n",
              "        8.8821e-01, 2.4374e-01, 6.6411e-02, 4.1767e-01, 5.3093e-01, 1.8502e-01,\n",
              "        2.0569e-01, 2.1458e-01, 2.0573e-01, 2.7593e-02, 9.8654e-01, 5.2475e-01,\n",
              "        7.2907e-01, 9.8831e-01, 1.0077e-01, 6.4478e-01, 9.4284e-01, 1.3669e-01,\n",
              "        7.6929e-01, 5.1141e-01, 7.3006e-01, 6.1224e-01, 6.8955e-01, 3.3629e-01,\n",
              "        1.6569e-01, 5.7352e-01, 9.6011e-01, 6.4026e-01, 5.2823e-01, 4.6155e-01,\n",
              "        4.6114e-01, 4.3478e-01, 2.6037e-01, 5.2701e-01, 9.4872e-01, 9.1656e-01,\n",
              "        5.6806e-01, 6.9115e-01, 8.0253e-01, 8.6361e-01, 7.7688e-01, 3.4095e-01,\n",
              "        9.0788e-01, 8.6083e-01, 8.4865e-01, 7.4057e-01, 8.5954e-01, 4.7814e-02,\n",
              "        2.6736e-01, 8.1722e-01, 2.9811e-01, 7.9968e-01, 6.5584e-01, 9.3707e-01,\n",
              "        2.7405e-01, 2.8163e-01, 8.0602e-01, 2.7765e-01, 2.0707e-01, 3.6458e-01,\n",
              "        1.4753e-01, 1.9755e-01, 8.4491e-01, 1.3092e-01, 9.6226e-01, 4.7277e-01,\n",
              "        9.7902e-02, 3.5892e-01, 2.6480e-01, 3.7386e-01, 6.2686e-01, 6.8514e-01,\n",
              "        4.7690e-01, 7.5266e-01, 4.5483e-01, 7.8855e-01, 6.7742e-01, 7.0979e-01,\n",
              "        6.7782e-01, 3.0589e-01, 7.2432e-01, 3.3807e-01, 3.7798e-01, 3.0258e-01,\n",
              "        1.1227e-01, 1.4298e-01, 2.9960e-01, 6.3341e-01, 1.8736e-01, 8.7929e-01,\n",
              "        9.6417e-01, 3.2178e-01, 2.4301e-01, 3.2839e-01, 3.3232e-01, 9.8671e-01,\n",
              "        5.7668e-01, 3.7495e-01, 2.2077e-01, 1.5710e-01, 4.0555e-02, 2.1369e-03,\n",
              "        1.7173e-01, 4.2635e-01, 2.4748e-01, 2.9047e-01, 8.1642e-01, 3.0403e-01,\n",
              "        6.2425e-02, 7.0852e-01, 4.0820e-01, 7.9232e-02, 6.5963e-01, 9.6085e-01,\n",
              "        4.0009e-01, 1.7648e-02, 3.3045e-01, 3.3441e-03, 4.4077e-01, 3.0711e-01,\n",
              "        2.1351e-01, 8.9530e-01, 8.0014e-01, 8.6353e-01, 8.2398e-01, 2.0766e-01,\n",
              "        6.1822e-01, 7.6528e-01, 3.6726e-01, 8.6811e-01, 5.9105e-01, 7.3316e-01,\n",
              "        3.7518e-02, 4.7765e-02, 7.2721e-01, 3.1710e-01, 5.3060e-01, 2.7536e-01,\n",
              "        3.0467e-02, 4.8883e-01, 2.3232e-01, 2.3517e-01, 8.1490e-01, 1.9836e-01,\n",
              "        5.7125e-01, 1.8606e-01, 7.1927e-01, 4.2132e-01, 9.3734e-01, 3.5434e-01,\n",
              "        8.3750e-01, 2.0746e-01, 7.4372e-01, 5.1131e-01, 5.7735e-01, 6.2030e-01,\n",
              "        4.9144e-01, 3.4041e-01, 3.5154e-01, 9.0876e-01, 9.7904e-02, 6.7692e-01,\n",
              "        7.3186e-01, 9.8495e-01, 7.4879e-01, 7.1946e-01, 8.6503e-01, 5.4891e-01,\n",
              "        9.8591e-01, 3.5951e-01, 3.5884e-01, 1.4120e-01, 4.2440e-01, 5.1996e-01,\n",
              "        1.6132e-01, 9.4724e-02, 8.4362e-01, 7.5246e-01, 9.4056e-01, 4.5083e-03,\n",
              "        5.4927e-01, 1.5962e-01, 8.8808e-01, 5.8600e-01, 6.5006e-01, 2.9435e-01,\n",
              "        9.3559e-01, 4.5366e-01, 1.2885e-01, 7.6063e-02, 3.3359e-01, 8.1511e-01,\n",
              "        5.0483e-02, 8.0896e-01, 5.9169e-01, 6.1210e-01, 7.4782e-01, 2.6383e-01,\n",
              "        5.5039e-02, 1.0626e-01, 7.0153e-01, 8.1189e-01, 2.9387e-01, 2.7514e-01,\n",
              "        5.4671e-01, 3.3431e-02, 4.9358e-01, 2.9132e-01, 1.7081e-01, 6.1396e-01,\n",
              "        3.5443e-01, 6.2959e-01, 7.9830e-01, 8.3170e-01, 7.4945e-02, 6.7901e-01,\n",
              "        1.7742e-01, 1.6763e-01, 7.4156e-01, 1.8164e-01, 6.6118e-01, 5.7640e-01,\n",
              "        2.1586e-01, 4.6591e-01, 2.8803e-01, 8.7101e-01, 4.7583e-01, 5.6472e-01,\n",
              "        4.4670e-01, 7.1912e-01, 2.7334e-01, 9.4663e-01, 7.5634e-01, 5.0362e-01,\n",
              "        4.4043e-01, 5.3406e-02, 3.7196e-01, 7.8986e-01, 2.5428e-01, 6.7112e-01,\n",
              "        2.9860e-01, 8.0130e-01, 6.0688e-01, 9.7495e-01, 2.8735e-01, 7.9352e-02,\n",
              "        6.2929e-01, 5.6827e-01, 8.4823e-01, 1.8950e-01, 6.1538e-01, 8.7249e-01,\n",
              "        8.8781e-01, 2.9286e-01, 3.5399e-03, 1.6066e-01, 2.1893e-01, 5.5534e-01,\n",
              "        3.2573e-01, 2.2373e-01, 9.4799e-01, 6.5096e-01, 2.2716e-01, 6.0839e-01,\n",
              "        7.7276e-01, 8.0884e-01, 4.9773e-01, 8.5262e-01, 7.3332e-04, 2.7644e-02,\n",
              "        2.0259e-01, 6.3709e-01, 9.6687e-02, 4.9271e-01, 1.9488e-01, 6.2564e-02,\n",
              "        9.8159e-01, 1.1888e-01, 2.1613e-01, 5.9911e-01, 6.8896e-01, 6.3079e-03,\n",
              "        9.3673e-01, 8.8127e-01, 4.6155e-01, 7.2307e-01, 6.0709e-01, 3.3106e-01,\n",
              "        3.4820e-01, 8.7604e-02, 9.0134e-01, 6.0864e-02, 6.4045e-01, 3.4335e-02,\n",
              "        4.4339e-01, 1.3900e-01, 8.8580e-01, 3.0175e-01, 3.6124e-01, 7.0948e-01,\n",
              "        2.3018e-02, 1.7750e-01, 7.7281e-01, 7.6684e-01, 2.7456e-01, 9.5496e-01,\n",
              "        7.7113e-01, 2.0157e-01, 8.9628e-01, 3.8308e-01, 4.1055e-01, 7.0927e-01,\n",
              "        5.1113e-01, 6.2643e-01, 9.7901e-01, 3.7551e-01, 5.3638e-01, 3.8917e-01,\n",
              "        9.7093e-02, 1.4175e-01, 6.1530e-01, 1.5007e-01, 7.6862e-01, 1.8906e-01,\n",
              "        4.6451e-01, 5.9989e-01, 4.7868e-02, 9.0453e-01, 6.0017e-01, 6.2522e-02,\n",
              "        2.4049e-01, 9.4923e-01, 3.4382e-01, 8.1819e-01, 3.0052e-01, 7.7442e-01,\n",
              "        4.8441e-01, 6.8059e-01, 5.7034e-01, 1.3204e-01, 9.3354e-01, 3.7695e-02,\n",
              "        4.6354e-01, 3.2868e-02, 9.9928e-01, 4.3236e-01, 7.6169e-01, 9.8049e-01,\n",
              "        4.1156e-01, 6.7222e-01, 8.3609e-01, 1.6468e-03, 7.5575e-01, 4.6683e-01,\n",
              "        8.5263e-01, 4.7066e-01, 8.1455e-01, 7.0102e-02, 5.2756e-01, 7.8715e-02,\n",
              "        7.7510e-01, 3.2135e-01, 1.2510e-01, 3.9871e-01, 2.1549e-01, 7.8284e-01,\n",
              "        7.1238e-01, 9.1641e-01, 8.8522e-01, 1.7131e-01, 8.7885e-01, 5.4211e-01,\n",
              "        6.3833e-01, 8.7508e-01, 3.5110e-01, 7.9111e-01, 5.9552e-01, 3.1956e-01,\n",
              "        5.3300e-02, 4.3124e-01, 7.5830e-01, 7.8660e-02, 4.9422e-02, 4.3159e-01,\n",
              "        3.9402e-01, 9.1387e-01, 5.0717e-01, 5.7752e-01, 7.4193e-01, 4.2598e-01,\n",
              "        5.0840e-02, 2.2322e-03, 1.1126e-01, 2.7825e-01, 5.2316e-01, 2.1626e-02,\n",
              "        1.9510e-01, 9.9618e-01, 7.4059e-01, 2.0904e-01, 2.3900e-01, 6.9303e-01,\n",
              "        2.9527e-02, 6.0075e-01, 3.6320e-01, 5.4829e-01, 5.0680e-01, 6.9127e-01,\n",
              "        1.3406e-01, 1.5612e-01, 9.5199e-01, 2.7142e-01, 3.6496e-01, 1.9827e-01,\n",
              "        5.2917e-01, 7.1644e-01, 7.5252e-02, 5.8423e-01, 3.6775e-01, 1.2466e-01,\n",
              "        8.0902e-01, 7.2940e-01, 5.8783e-02, 5.6878e-01, 2.3024e-01, 2.4731e-01,\n",
              "        1.9375e-01, 1.7207e-01, 6.9147e-01, 4.6846e-02, 7.0038e-01, 5.8112e-01,\n",
              "        3.9486e-01, 6.0216e-01, 2.7415e-01, 8.4598e-01, 6.2747e-01, 1.7117e-01,\n",
              "        9.5271e-01, 8.8600e-01, 6.2487e-01, 9.0624e-01, 4.1227e-01, 3.3696e-01,\n",
              "        1.1032e-01, 9.5615e-02, 3.3242e-01, 1.5162e-01, 7.0520e-01, 2.9735e-01,\n",
              "        8.8795e-01, 7.6492e-01, 5.8397e-01, 5.6734e-01, 5.2160e-01, 6.1771e-01,\n",
              "        3.8094e-01, 8.6021e-01, 1.6461e-01, 2.1773e-01, 7.4397e-01, 8.9310e-01,\n",
              "        8.8037e-01, 8.5961e-02, 1.6597e-01, 6.4201e-01, 2.9189e-01, 2.7452e-01,\n",
              "        5.7054e-01, 2.6747e-01, 3.6976e-01, 5.9028e-01, 2.3754e-01, 1.8148e-01,\n",
              "        7.5203e-01, 4.9995e-01, 1.7947e-01, 4.1107e-01, 9.3992e-02, 2.5134e-01,\n",
              "        8.2504e-01, 5.7077e-01, 5.0546e-01, 9.2749e-01, 1.5181e-01, 4.6316e-01,\n",
              "        4.7126e-01, 7.8824e-01, 4.1375e-01, 8.8578e-02, 7.7216e-01, 8.5130e-01,\n",
              "        7.5375e-01, 7.8538e-01, 7.3096e-01, 5.8929e-01, 3.0734e-01, 3.0813e-01,\n",
              "        7.1439e-01, 4.2492e-01, 5.7521e-02, 4.3419e-01, 4.8646e-01, 6.3316e-01,\n",
              "        1.6284e-01, 4.2941e-01, 2.1034e-01, 9.9508e-01, 3.1610e-01, 6.5547e-01,\n",
              "        2.3914e-01, 2.0505e-01, 3.5661e-01, 6.3986e-01, 4.0519e-01, 4.4174e-01,\n",
              "        4.5626e-01, 9.7028e-01, 6.3524e-01, 9.2275e-01, 5.9660e-01, 2.8896e-01,\n",
              "        9.3988e-01, 1.4614e-01, 8.5774e-01, 6.7153e-01, 1.4425e-01, 1.9570e-01,\n",
              "        6.5927e-01, 1.5643e-01, 6.7354e-01, 4.9636e-01, 3.0601e-01, 8.3162e-01,\n",
              "        7.9472e-01, 2.9167e-01, 8.9390e-02, 7.3987e-01, 1.8709e-01, 2.9339e-01,\n",
              "        9.1775e-01, 2.4007e-01, 9.8748e-01, 3.9184e-02, 6.0759e-01, 8.9200e-01,\n",
              "        5.6250e-01, 8.0860e-01, 1.2616e-02, 8.9653e-01, 6.6723e-01, 3.0103e-01,\n",
              "        6.7047e-01, 3.2817e-01, 5.1021e-01, 9.6947e-01, 5.2907e-01, 4.1506e-01,\n",
              "        9.6847e-01, 7.4450e-01, 2.0086e-01, 5.9629e-01, 2.2701e-01, 6.1001e-01,\n",
              "        5.3204e-01, 4.4856e-01, 3.1778e-01, 2.5200e-01, 8.3535e-02, 1.9564e-02,\n",
              "        3.6122e-01, 4.7910e-01, 4.8621e-01, 9.3022e-01, 4.7546e-01, 4.8846e-01,\n",
              "        2.4952e-01, 2.3467e-01, 9.3922e-01, 5.5921e-01, 6.3912e-01, 6.8926e-01,\n",
              "        8.6818e-02, 1.6683e-01, 2.8969e-01, 7.3005e-01, 6.9950e-02, 7.8583e-01,\n",
              "        5.4372e-01, 3.2904e-01, 7.4066e-01, 8.9565e-01, 1.1435e-01, 5.6394e-01,\n",
              "        6.3944e-04, 2.4596e-01, 5.0008e-01, 7.0886e-01, 2.1109e-01, 8.7703e-01,\n",
              "        3.7053e-01, 7.5908e-01, 6.1832e-01, 1.9173e-01, 9.5284e-01, 7.4404e-01,\n",
              "        8.3429e-01, 8.4593e-01, 2.8942e-01, 9.6497e-01, 1.7605e-01, 5.2318e-01,\n",
              "        3.1301e-01, 1.4033e-01, 9.3600e-01, 1.6699e-01, 6.4315e-01, 1.5602e-01,\n",
              "        2.3672e-01, 4.6367e-01, 9.2713e-01, 4.2640e-02, 4.8635e-01, 8.2028e-01,\n",
              "        5.6722e-01, 8.9838e-01, 3.9394e-01, 6.8851e-02, 4.3088e-01, 5.0512e-01,\n",
              "        1.7918e-01, 9.0731e-01, 1.9490e-01, 7.6018e-01, 8.5649e-01, 4.0540e-01,\n",
              "        3.6647e-01, 8.0636e-01, 9.7879e-01, 4.5382e-01, 1.6494e-01, 7.5526e-01,\n",
              "        2.2319e-01, 8.1984e-01, 2.0884e-01, 3.2864e-01, 2.9083e-01, 8.3890e-01,\n",
              "        8.5455e-02, 7.4128e-01, 6.9241e-01, 9.1525e-01, 1.9747e-01, 8.7765e-01,\n",
              "        4.6465e-01, 4.3595e-01, 4.1674e-01, 2.1310e-01, 3.8916e-01, 3.9007e-01,\n",
              "        8.8603e-01, 7.5296e-01, 9.8360e-01, 9.2753e-01, 4.8099e-01, 3.2018e-01,\n",
              "        7.2269e-01, 3.6170e-01, 4.6718e-01, 9.3475e-01, 1.3124e-02, 6.1603e-01,\n",
              "        4.4812e-01, 2.7116e-01, 5.4580e-01, 1.5493e-01, 4.1427e-01, 7.6907e-01,\n",
              "        3.2293e-01, 8.6602e-01, 3.6764e-01, 5.3105e-01, 8.3994e-01, 7.5956e-01,\n",
              "        7.2718e-01, 5.8860e-01, 9.9948e-01, 6.9386e-01, 5.1625e-01, 3.0574e-01,\n",
              "        7.5829e-01, 1.0169e-01, 8.6971e-01, 5.0581e-01, 7.3590e-01, 3.4149e-01,\n",
              "        4.0913e-01, 2.9949e-01, 3.3833e-01, 7.3812e-01, 6.8757e-02, 4.7540e-02,\n",
              "        1.5198e-01, 8.9074e-01, 8.7270e-01, 5.0108e-01, 9.7840e-01, 1.4766e-01,\n",
              "        2.3662e-01, 5.6605e-01, 6.2864e-01, 8.8085e-01, 7.4703e-01, 5.7209e-01,\n",
              "        4.0994e-02, 5.9567e-01, 4.4833e-01, 5.7434e-01, 2.8397e-01, 9.8241e-01,\n",
              "        6.2243e-01, 4.3526e-01, 9.2051e-01, 6.7121e-02, 6.6134e-01, 9.5703e-02,\n",
              "        9.3823e-01, 1.1611e-01, 1.8398e-01, 1.6150e-01, 4.9886e-01, 7.3738e-01,\n",
              "        9.2489e-01, 5.6339e-01, 2.1702e-01, 4.5849e-02, 5.3415e-01, 6.0378e-02,\n",
              "        7.0576e-01, 3.6186e-01, 5.0632e-01, 8.7792e-01, 8.5865e-01, 5.3314e-01,\n",
              "        9.5349e-01, 2.0477e-01, 3.8273e-02, 4.6166e-01, 4.7698e-01, 6.8674e-01,\n",
              "        6.3123e-01, 6.8777e-01, 5.9137e-01, 8.4048e-01, 4.9032e-01, 1.7211e-01,\n",
              "        5.0897e-01, 7.8348e-01, 6.3565e-01, 7.3149e-01, 5.6519e-02, 1.0198e-01,\n",
              "        6.0619e-01, 8.7178e-01, 8.1686e-01, 2.5642e-01, 9.2942e-01, 1.7087e-01,\n",
              "        5.0526e-01, 7.9009e-01, 9.1006e-01, 3.6534e-01, 2.7423e-01, 4.4063e-01,\n",
              "        9.7746e-01, 2.0617e-01, 4.3169e-01, 5.7052e-01, 1.9442e-01, 4.3601e-02,\n",
              "        2.5111e-01, 2.6838e-01, 4.0850e-01, 8.4950e-02, 2.3299e-01, 2.1044e-01,\n",
              "        4.0455e-01, 7.1814e-01, 3.6387e-01, 8.1212e-01, 4.9267e-01, 3.5307e-01,\n",
              "        4.8934e-01, 5.8478e-01, 9.4061e-02, 2.2845e-01, 6.4607e-01, 2.8027e-01,\n",
              "        7.8727e-01, 9.5877e-01, 2.4199e-01, 7.0263e-01, 3.1520e-01, 1.9996e-02,\n",
              "        5.0958e-01, 5.0819e-01, 2.0299e-02, 2.9358e-01, 7.4163e-01, 2.0983e-01,\n",
              "        5.9483e-01, 1.8074e-01, 5.5634e-01, 1.2626e-01, 4.0379e-01, 1.3752e-01,\n",
              "        1.7343e-01, 2.3367e-01, 9.2491e-01, 5.7986e-01, 9.3940e-01, 9.0991e-01,\n",
              "        5.5208e-01, 4.2380e-01, 2.3265e-01, 1.5472e-01, 8.7683e-01, 9.7410e-01,\n",
              "        6.6495e-01, 6.6196e-01, 5.2349e-02, 9.9563e-01, 6.4575e-01, 4.0878e-01,\n",
              "        2.3644e-01, 8.3423e-01, 8.7046e-01, 2.0145e-01, 7.0227e-01, 1.7831e-01,\n",
              "        2.9730e-01, 3.8516e-01, 3.2049e-02, 6.9428e-01, 2.3539e-01, 8.6262e-01,\n",
              "        1.3375e-03, 5.0577e-01, 7.0774e-01, 7.9744e-01, 7.7004e-01, 9.7060e-04,\n",
              "        7.7948e-01, 2.2178e-02, 7.4913e-01, 4.9858e-02, 5.6385e-01, 8.3009e-01,\n",
              "        8.2147e-01, 5.4936e-01, 5.4912e-01, 3.1640e-01, 4.5707e-01, 6.7797e-01,\n",
              "        6.2641e-01, 2.0437e-01, 3.5170e-01, 9.7417e-01, 7.8599e-01, 1.7518e-01,\n",
              "        8.0188e-01, 9.9553e-01, 1.4215e-01, 4.0859e-01, 1.7841e-01, 2.5112e-01,\n",
              "        7.0639e-01, 4.6188e-01, 7.9018e-01, 5.0924e-02, 4.2626e-02, 5.6911e-01,\n",
              "        4.1967e-01, 4.0650e-01, 8.5391e-01, 9.7916e-01, 3.3396e-01, 9.0565e-01,\n",
              "        6.4604e-01, 1.4057e-01, 2.3706e-01, 5.2972e-01, 2.7019e-01, 5.2019e-01,\n",
              "        6.9351e-01, 8.0786e-01, 6.7159e-01, 1.9686e-01, 3.1923e-01, 4.8349e-01,\n",
              "        2.1482e-02, 9.9883e-02, 8.2541e-01, 3.2711e-01, 8.4758e-01, 5.1524e-01,\n",
              "        8.2793e-01, 6.4878e-01, 7.1654e-01, 3.4162e-01, 7.1497e-01, 5.0789e-03,\n",
              "        8.0522e-01, 5.3114e-01, 8.0215e-01, 5.6020e-02, 1.1741e-01, 4.3202e-01,\n",
              "        4.0658e-01, 1.9974e-01, 6.0873e-01, 3.1565e-01, 6.1010e-03, 5.7581e-01,\n",
              "        3.9688e-01, 5.5881e-01, 6.8447e-01, 1.0513e-01, 5.1515e-01, 5.3150e-01,\n",
              "        5.1232e-02, 8.0606e-01, 7.9509e-01, 2.5830e-01, 8.9503e-01, 9.9483e-01,\n",
              "        8.2043e-01, 9.3065e-01, 5.2675e-01, 5.7560e-01, 8.3822e-01, 6.9462e-02,\n",
              "        3.5756e-02, 3.7102e-01, 5.3910e-01, 2.5979e-01, 9.5110e-01, 4.2258e-01,\n",
              "        8.2583e-01, 5.6583e-01, 5.0777e-01, 8.7886e-01])"
            ]
          },
          "metadata": {},
          "execution_count": 82
        }
      ]
    },
    {
      "cell_type": "code",
      "source": [
        "rand_tensor.size"
      ],
      "metadata": {
        "colab": {
          "base_uri": "https://localhost:8080/"
        },
        "id": "sKMo5EnqFMn5",
        "outputId": "24ec38bb-ded1-49fc-8b32-4f34eb5bb5c3"
      },
      "execution_count": null,
      "outputs": [
        {
          "output_type": "execute_result",
          "data": {
            "text/plain": [
              "<function Tensor.size>"
            ]
          },
          "metadata": {},
          "execution_count": 83
        }
      ]
    },
    {
      "cell_type": "markdown",
      "source": [
        "\n",
        "Random tensors\n",
        "\n",
        "We've established tensors represent some form of data.\n",
        "\n",
        "And machine learning models such as neural networks manipulate and seek patterns within tensors.\n",
        "\n",
        "But when building machine learning models with PyTorch, it's rare you'll create tensors by hand (like what we've been doing).\n",
        "\n",
        "Instead, a machine learning model often starts out with large random tensors of numbers and adjusts these random numbers as it works through data to better represent it.\n",
        "\n",
        "In essence:\n",
        "\n",
        "Start with random numbers -> look at data -> update random numbers -> look at data -> update random numbers...\n",
        "\n",
        "As a data scientist, you can define how the machine learning model starts (initialization), looks at data (representation) and updates (optimization) its random numbers.\n",
        "\n",
        "We'll get hands on with these steps later on.\n",
        "\n",
        "For now, let's see how to create a tensor of random numbers.\n",
        "\n",
        "We can do so using torch.rand() and passing in the size parameter.\n"
      ],
      "metadata": {
        "id": "pNfyMvsiMhJD"
      }
    },
    {
      "cell_type": "code",
      "source": [
        "ran_tensor = torch.rand(size = (3,4))\n",
        "ran_tensor,ran_tensor.dtype"
      ],
      "metadata": {
        "colab": {
          "base_uri": "https://localhost:8080/"
        },
        "id": "mZNVgdKlMirH",
        "outputId": "bcbb9e2a-645a-4556-ecbf-18206abba770"
      },
      "execution_count": null,
      "outputs": [
        {
          "output_type": "execute_result",
          "data": {
            "text/plain": [
              "(tensor([[0.4440, 0.6176, 0.6135, 0.0908],\n",
              "         [0.1111, 0.9229, 0.2349, 0.3373],\n",
              "         [0.2451, 0.4537, 0.7447, 0.2946]]),\n",
              " torch.float32)"
            ]
          },
          "metadata": {},
          "execution_count": 84
        }
      ]
    },
    {
      "cell_type": "markdown",
      "source": [
        "The flexibility of torch.rand() is that we can adjust the size to be whatever we want."
      ],
      "metadata": {
        "id": "HTgMwg3zNMAU"
      }
    },
    {
      "cell_type": "code",
      "source": [
        "#create random tendor of size (224, 224, 3)\n",
        "#For example, say you wanted a random tensor in the common\n",
        "#image shape of [224, 224, 3] ([height, width, color_channels]).\n",
        "random_image_size_tensor = torch.rand(size = (224,224,3))\n",
        "random_image_size_tensor, random_image_size_tensor.ndim"
      ],
      "metadata": {
        "colab": {
          "base_uri": "https://localhost:8080/"
        },
        "id": "Dix3HrnKNNtB",
        "outputId": "557bcf8f-d089-46c7-f723-57797bfab508"
      },
      "execution_count": null,
      "outputs": [
        {
          "output_type": "execute_result",
          "data": {
            "text/plain": [
              "(tensor([[[7.6600e-01, 4.9877e-01, 5.2482e-01],\n",
              "          [7.5575e-01, 4.9793e-01, 3.8263e-01],\n",
              "          [8.9777e-01, 4.5420e-01, 4.3149e-01],\n",
              "          ...,\n",
              "          [7.9141e-01, 4.0329e-02, 9.1954e-01],\n",
              "          [5.7034e-01, 8.9045e-01, 9.5613e-01],\n",
              "          [9.5830e-01, 8.1451e-01, 9.8031e-01]],\n",
              " \n",
              "         [[4.6520e-01, 9.7117e-01, 4.1467e-01],\n",
              "          [5.3945e-01, 9.4907e-01, 1.9512e-01],\n",
              "          [5.5303e-01, 4.1901e-01, 4.9241e-01],\n",
              "          ...,\n",
              "          [8.6135e-02, 9.5698e-01, 5.8821e-01],\n",
              "          [8.9146e-02, 7.7380e-01, 6.1982e-01],\n",
              "          [1.6833e-01, 9.8752e-01, 6.7345e-01]],\n",
              " \n",
              "         [[9.9842e-01, 1.2638e-01, 9.6426e-01],\n",
              "          [3.1009e-02, 5.9292e-01, 9.2212e-01],\n",
              "          [4.0059e-01, 9.6224e-01, 8.9708e-01],\n",
              "          ...,\n",
              "          [1.4894e-01, 5.6834e-01, 6.5848e-01],\n",
              "          [5.0947e-01, 3.5038e-01, 2.5663e-01],\n",
              "          [9.2555e-01, 6.7925e-04, 9.0477e-01]],\n",
              " \n",
              "         ...,\n",
              " \n",
              "         [[3.1583e-01, 5.1572e-01, 7.4524e-01],\n",
              "          [7.6237e-01, 1.6497e-01, 4.8237e-01],\n",
              "          [6.8935e-01, 7.9550e-01, 9.7317e-02],\n",
              "          ...,\n",
              "          [1.5351e-01, 8.5444e-01, 5.6250e-02],\n",
              "          [7.9487e-01, 9.2528e-01, 1.5432e-01],\n",
              "          [5.0945e-02, 4.0505e-01, 7.5509e-01]],\n",
              " \n",
              "         [[1.9726e-01, 5.1850e-01, 3.5112e-01],\n",
              "          [4.4721e-01, 9.2342e-02, 1.3764e-01],\n",
              "          [5.5592e-01, 9.2446e-01, 2.2030e-01],\n",
              "          ...,\n",
              "          [2.7122e-02, 3.4954e-01, 4.0844e-01],\n",
              "          [7.8120e-01, 9.9965e-01, 2.1557e-01],\n",
              "          [6.4536e-01, 8.3730e-01, 6.7350e-01]],\n",
              " \n",
              "         [[9.5692e-02, 2.1051e-02, 6.7748e-02],\n",
              "          [3.4428e-01, 7.0617e-01, 6.7391e-01],\n",
              "          [1.0637e-01, 4.8937e-01, 6.5805e-01],\n",
              "          ...,\n",
              "          [4.0828e-01, 5.0119e-01, 4.2571e-01],\n",
              "          [2.3068e-01, 7.6128e-02, 8.7803e-01],\n",
              "          [7.0544e-01, 8.6658e-01, 7.6670e-01]]]),\n",
              " 3)"
            ]
          },
          "metadata": {},
          "execution_count": 85
        }
      ]
    },
    {
      "cell_type": "markdown",
      "source": [
        "\n",
        "###Zeros and ones\n",
        "\n",
        "Sometimes you'll just want to fill tensors with zeros or ones.\n",
        "\n",
        "This happens a lot with masking (like masking some of the values in one tensor with zeros to let a model know not to learn them).\n",
        "\n",
        "Let's create a tensor full of zeros with torch.zeros()\n",
        "\n",
        "Again, the size parameter comes into play.\n"
      ],
      "metadata": {
        "id": "o0sMPVEjOWO7"
      }
    },
    {
      "cell_type": "code",
      "source": [
        "#create a tensor off all zero\n",
        "zeros = torch.zeros(size = (3,4))\n",
        "zeros, zeros.dtype"
      ],
      "metadata": {
        "colab": {
          "base_uri": "https://localhost:8080/"
        },
        "id": "uIyk1HwLN8D3",
        "outputId": "6623365c-f6db-49b7-c4c8-a360c1d2abb6"
      },
      "execution_count": null,
      "outputs": [
        {
          "output_type": "execute_result",
          "data": {
            "text/plain": [
              "(tensor([[0., 0., 0., 0.],\n",
              "         [0., 0., 0., 0.],\n",
              "         [0., 0., 0., 0.]]),\n",
              " torch.float32)"
            ]
          },
          "metadata": {},
          "execution_count": 86
        }
      ]
    },
    {
      "cell_type": "code",
      "source": [
        "#create a tensor off all ones\n",
        "ones = torch.ones(size = (3,4))\n",
        "ones ,ones.dtype"
      ],
      "metadata": {
        "colab": {
          "base_uri": "https://localhost:8080/"
        },
        "id": "hBxVxw8_OKcc",
        "outputId": "b83460af-5df1-46b0-bfb0-7c6f894513cc"
      },
      "execution_count": null,
      "outputs": [
        {
          "output_type": "execute_result",
          "data": {
            "text/plain": [
              "(tensor([[1., 1., 1., 1.],\n",
              "         [1., 1., 1., 1.],\n",
              "         [1., 1., 1., 1.]]),\n",
              " torch.float32)"
            ]
          },
          "metadata": {},
          "execution_count": 87
        }
      ]
    },
    {
      "cell_type": "markdown",
      "source": [
        "###Creating a range and tensors like\n",
        "\n",
        "Sometimes you might want a range of numbers, such as 1 to 10 or 0 to 100.\n",
        "\n",
        "You can use torch.arange(start, end, step) to do so.\n",
        "\n",
        "Where:\n",
        "\n",
        "    start = start of range (e.g. 0)\n",
        "    end = end of range (e.g. 10)\n",
        "    step = how many steps in between each value (e.g. 1)\n"
      ],
      "metadata": {
        "id": "OI9IpUEIO7gX"
      }
    },
    {
      "cell_type": "code",
      "source": [
        "zero_to_ten = torch.range(1,10)\n",
        "zero_to_ten"
      ],
      "metadata": {
        "colab": {
          "base_uri": "https://localhost:8080/"
        },
        "id": "kVPpPU5XPCmL",
        "outputId": "dd4e29fa-37ee-4b4c-979f-4e5b5e04dec5"
      },
      "execution_count": null,
      "outputs": [
        {
          "output_type": "stream",
          "name": "stderr",
          "text": [
            "/tmp/ipython-input-2362431970.py:1: UserWarning: torch.range is deprecated and will be removed in a future release because its behavior is inconsistent with Python's range builtin. Instead, use torch.arange, which produces values in [start, end).\n",
            "  zero_to_ten = torch.range(1,10)\n"
          ]
        },
        {
          "output_type": "execute_result",
          "data": {
            "text/plain": [
              "tensor([ 1.,  2.,  3.,  4.,  5.,  6.,  7.,  8.,  9., 10.])"
            ]
          },
          "metadata": {},
          "execution_count": 88
        }
      ]
    },
    {
      "cell_type": "code",
      "source": [
        "h_to_th = torch.range(100,1000)\n",
        "h_to_th"
      ],
      "metadata": {
        "colab": {
          "base_uri": "https://localhost:8080/"
        },
        "id": "0nN-9SOxPbGX",
        "outputId": "fbc53a9e-06a3-4e7a-c0e2-eb37cf1a5e03"
      },
      "execution_count": null,
      "outputs": [
        {
          "output_type": "stream",
          "name": "stderr",
          "text": [
            "/tmp/ipython-input-2911701373.py:1: UserWarning: torch.range is deprecated and will be removed in a future release because its behavior is inconsistent with Python's range builtin. Instead, use torch.arange, which produces values in [start, end).\n",
            "  h_to_th = torch.range(100,1000)\n"
          ]
        },
        {
          "output_type": "execute_result",
          "data": {
            "text/plain": [
              "tensor([ 100.,  101.,  102.,  103.,  104.,  105.,  106.,  107.,  108.,  109.,\n",
              "         110.,  111.,  112.,  113.,  114.,  115.,  116.,  117.,  118.,  119.,\n",
              "         120.,  121.,  122.,  123.,  124.,  125.,  126.,  127.,  128.,  129.,\n",
              "         130.,  131.,  132.,  133.,  134.,  135.,  136.,  137.,  138.,  139.,\n",
              "         140.,  141.,  142.,  143.,  144.,  145.,  146.,  147.,  148.,  149.,\n",
              "         150.,  151.,  152.,  153.,  154.,  155.,  156.,  157.,  158.,  159.,\n",
              "         160.,  161.,  162.,  163.,  164.,  165.,  166.,  167.,  168.,  169.,\n",
              "         170.,  171.,  172.,  173.,  174.,  175.,  176.,  177.,  178.,  179.,\n",
              "         180.,  181.,  182.,  183.,  184.,  185.,  186.,  187.,  188.,  189.,\n",
              "         190.,  191.,  192.,  193.,  194.,  195.,  196.,  197.,  198.,  199.,\n",
              "         200.,  201.,  202.,  203.,  204.,  205.,  206.,  207.,  208.,  209.,\n",
              "         210.,  211.,  212.,  213.,  214.,  215.,  216.,  217.,  218.,  219.,\n",
              "         220.,  221.,  222.,  223.,  224.,  225.,  226.,  227.,  228.,  229.,\n",
              "         230.,  231.,  232.,  233.,  234.,  235.,  236.,  237.,  238.,  239.,\n",
              "         240.,  241.,  242.,  243.,  244.,  245.,  246.,  247.,  248.,  249.,\n",
              "         250.,  251.,  252.,  253.,  254.,  255.,  256.,  257.,  258.,  259.,\n",
              "         260.,  261.,  262.,  263.,  264.,  265.,  266.,  267.,  268.,  269.,\n",
              "         270.,  271.,  272.,  273.,  274.,  275.,  276.,  277.,  278.,  279.,\n",
              "         280.,  281.,  282.,  283.,  284.,  285.,  286.,  287.,  288.,  289.,\n",
              "         290.,  291.,  292.,  293.,  294.,  295.,  296.,  297.,  298.,  299.,\n",
              "         300.,  301.,  302.,  303.,  304.,  305.,  306.,  307.,  308.,  309.,\n",
              "         310.,  311.,  312.,  313.,  314.,  315.,  316.,  317.,  318.,  319.,\n",
              "         320.,  321.,  322.,  323.,  324.,  325.,  326.,  327.,  328.,  329.,\n",
              "         330.,  331.,  332.,  333.,  334.,  335.,  336.,  337.,  338.,  339.,\n",
              "         340.,  341.,  342.,  343.,  344.,  345.,  346.,  347.,  348.,  349.,\n",
              "         350.,  351.,  352.,  353.,  354.,  355.,  356.,  357.,  358.,  359.,\n",
              "         360.,  361.,  362.,  363.,  364.,  365.,  366.,  367.,  368.,  369.,\n",
              "         370.,  371.,  372.,  373.,  374.,  375.,  376.,  377.,  378.,  379.,\n",
              "         380.,  381.,  382.,  383.,  384.,  385.,  386.,  387.,  388.,  389.,\n",
              "         390.,  391.,  392.,  393.,  394.,  395.,  396.,  397.,  398.,  399.,\n",
              "         400.,  401.,  402.,  403.,  404.,  405.,  406.,  407.,  408.,  409.,\n",
              "         410.,  411.,  412.,  413.,  414.,  415.,  416.,  417.,  418.,  419.,\n",
              "         420.,  421.,  422.,  423.,  424.,  425.,  426.,  427.,  428.,  429.,\n",
              "         430.,  431.,  432.,  433.,  434.,  435.,  436.,  437.,  438.,  439.,\n",
              "         440.,  441.,  442.,  443.,  444.,  445.,  446.,  447.,  448.,  449.,\n",
              "         450.,  451.,  452.,  453.,  454.,  455.,  456.,  457.,  458.,  459.,\n",
              "         460.,  461.,  462.,  463.,  464.,  465.,  466.,  467.,  468.,  469.,\n",
              "         470.,  471.,  472.,  473.,  474.,  475.,  476.,  477.,  478.,  479.,\n",
              "         480.,  481.,  482.,  483.,  484.,  485.,  486.,  487.,  488.,  489.,\n",
              "         490.,  491.,  492.,  493.,  494.,  495.,  496.,  497.,  498.,  499.,\n",
              "         500.,  501.,  502.,  503.,  504.,  505.,  506.,  507.,  508.,  509.,\n",
              "         510.,  511.,  512.,  513.,  514.,  515.,  516.,  517.,  518.,  519.,\n",
              "         520.,  521.,  522.,  523.,  524.,  525.,  526.,  527.,  528.,  529.,\n",
              "         530.,  531.,  532.,  533.,  534.,  535.,  536.,  537.,  538.,  539.,\n",
              "         540.,  541.,  542.,  543.,  544.,  545.,  546.,  547.,  548.,  549.,\n",
              "         550.,  551.,  552.,  553.,  554.,  555.,  556.,  557.,  558.,  559.,\n",
              "         560.,  561.,  562.,  563.,  564.,  565.,  566.,  567.,  568.,  569.,\n",
              "         570.,  571.,  572.,  573.,  574.,  575.,  576.,  577.,  578.,  579.,\n",
              "         580.,  581.,  582.,  583.,  584.,  585.,  586.,  587.,  588.,  589.,\n",
              "         590.,  591.,  592.,  593.,  594.,  595.,  596.,  597.,  598.,  599.,\n",
              "         600.,  601.,  602.,  603.,  604.,  605.,  606.,  607.,  608.,  609.,\n",
              "         610.,  611.,  612.,  613.,  614.,  615.,  616.,  617.,  618.,  619.,\n",
              "         620.,  621.,  622.,  623.,  624.,  625.,  626.,  627.,  628.,  629.,\n",
              "         630.,  631.,  632.,  633.,  634.,  635.,  636.,  637.,  638.,  639.,\n",
              "         640.,  641.,  642.,  643.,  644.,  645.,  646.,  647.,  648.,  649.,\n",
              "         650.,  651.,  652.,  653.,  654.,  655.,  656.,  657.,  658.,  659.,\n",
              "         660.,  661.,  662.,  663.,  664.,  665.,  666.,  667.,  668.,  669.,\n",
              "         670.,  671.,  672.,  673.,  674.,  675.,  676.,  677.,  678.,  679.,\n",
              "         680.,  681.,  682.,  683.,  684.,  685.,  686.,  687.,  688.,  689.,\n",
              "         690.,  691.,  692.,  693.,  694.,  695.,  696.,  697.,  698.,  699.,\n",
              "         700.,  701.,  702.,  703.,  704.,  705.,  706.,  707.,  708.,  709.,\n",
              "         710.,  711.,  712.,  713.,  714.,  715.,  716.,  717.,  718.,  719.,\n",
              "         720.,  721.,  722.,  723.,  724.,  725.,  726.,  727.,  728.,  729.,\n",
              "         730.,  731.,  732.,  733.,  734.,  735.,  736.,  737.,  738.,  739.,\n",
              "         740.,  741.,  742.,  743.,  744.,  745.,  746.,  747.,  748.,  749.,\n",
              "         750.,  751.,  752.,  753.,  754.,  755.,  756.,  757.,  758.,  759.,\n",
              "         760.,  761.,  762.,  763.,  764.,  765.,  766.,  767.,  768.,  769.,\n",
              "         770.,  771.,  772.,  773.,  774.,  775.,  776.,  777.,  778.,  779.,\n",
              "         780.,  781.,  782.,  783.,  784.,  785.,  786.,  787.,  788.,  789.,\n",
              "         790.,  791.,  792.,  793.,  794.,  795.,  796.,  797.,  798.,  799.,\n",
              "         800.,  801.,  802.,  803.,  804.,  805.,  806.,  807.,  808.,  809.,\n",
              "         810.,  811.,  812.,  813.,  814.,  815.,  816.,  817.,  818.,  819.,\n",
              "         820.,  821.,  822.,  823.,  824.,  825.,  826.,  827.,  828.,  829.,\n",
              "         830.,  831.,  832.,  833.,  834.,  835.,  836.,  837.,  838.,  839.,\n",
              "         840.,  841.,  842.,  843.,  844.,  845.,  846.,  847.,  848.,  849.,\n",
              "         850.,  851.,  852.,  853.,  854.,  855.,  856.,  857.,  858.,  859.,\n",
              "         860.,  861.,  862.,  863.,  864.,  865.,  866.,  867.,  868.,  869.,\n",
              "         870.,  871.,  872.,  873.,  874.,  875.,  876.,  877.,  878.,  879.,\n",
              "         880.,  881.,  882.,  883.,  884.,  885.,  886.,  887.,  888.,  889.,\n",
              "         890.,  891.,  892.,  893.,  894.,  895.,  896.,  897.,  898.,  899.,\n",
              "         900.,  901.,  902.,  903.,  904.,  905.,  906.,  907.,  908.,  909.,\n",
              "         910.,  911.,  912.,  913.,  914.,  915.,  916.,  917.,  918.,  919.,\n",
              "         920.,  921.,  922.,  923.,  924.,  925.,  926.,  927.,  928.,  929.,\n",
              "         930.,  931.,  932.,  933.,  934.,  935.,  936.,  937.,  938.,  939.,\n",
              "         940.,  941.,  942.,  943.,  944.,  945.,  946.,  947.,  948.,  949.,\n",
              "         950.,  951.,  952.,  953.,  954.,  955.,  956.,  957.,  958.,  959.,\n",
              "         960.,  961.,  962.,  963.,  964.,  965.,  966.,  967.,  968.,  969.,\n",
              "         970.,  971.,  972.,  973.,  974.,  975.,  976.,  977.,  978.,  979.,\n",
              "         980.,  981.,  982.,  983.,  984.,  985.,  986.,  987.,  988.,  989.,\n",
              "         990.,  991.,  992.,  993.,  994.,  995.,  996.,  997.,  998.,  999.,\n",
              "        1000.])"
            ]
          },
          "metadata": {},
          "execution_count": 89
        }
      ]
    },
    {
      "cell_type": "markdown",
      "source": [
        "\n",
        "###Basic operations\n",
        "\n",
        "Let's start with a few of the fundamental operations, addition (+), subtraction (-), mutliplication (*).\n",
        "\n",
        "They work just as you think they would.\n"
      ],
      "metadata": {
        "id": "Dj6ySElfQEyP"
      }
    },
    {
      "cell_type": "code",
      "source": [
        "#create a tensor value and add a number to it\n",
        "#it will work with each number of the tensor\n",
        "tensor = torch.Tensor([1,2,3])\n",
        "tensor + 3"
      ],
      "metadata": {
        "colab": {
          "base_uri": "https://localhost:8080/"
        },
        "id": "FS_wtfWPQD44",
        "outputId": "91e1e3f9-81db-48a7-ad63-6ce8003dba93"
      },
      "execution_count": null,
      "outputs": [
        {
          "output_type": "execute_result",
          "data": {
            "text/plain": [
              "tensor([4., 5., 6.])"
            ]
          },
          "metadata": {},
          "execution_count": 90
        }
      ]
    },
    {
      "cell_type": "code",
      "source": [
        "#tensor Multiply\n",
        "tensor*10"
      ],
      "metadata": {
        "colab": {
          "base_uri": "https://localhost:8080/"
        },
        "id": "rn7EWmqiQkxR",
        "outputId": "44563543-0c00-4f90-948d-2fb7d32753d7"
      },
      "execution_count": null,
      "outputs": [
        {
          "output_type": "execute_result",
          "data": {
            "text/plain": [
              "tensor([10., 20., 30.])"
            ]
          },
          "metadata": {},
          "execution_count": 91
        }
      ]
    },
    {
      "cell_type": "code",
      "source": [
        "#the use of (+ , - , * , / ) will not change the whole tensor\n",
        "#it will work for that particular cell\n",
        "tensor"
      ],
      "metadata": {
        "colab": {
          "base_uri": "https://localhost:8080/"
        },
        "id": "XJ8i5ho6Qvmy",
        "outputId": "cbe51e10-5f25-4419-b277-583d0532b93c"
      },
      "execution_count": null,
      "outputs": [
        {
          "output_type": "execute_result",
          "data": {
            "text/plain": [
              "tensor([1., 2., 3.])"
            ]
          },
          "metadata": {},
          "execution_count": 92
        }
      ]
    },
    {
      "cell_type": "code",
      "source": [
        "#Subtract\n",
        "tensor - 10"
      ],
      "metadata": {
        "colab": {
          "base_uri": "https://localhost:8080/"
        },
        "id": "VmEojpT9RRDG",
        "outputId": "9103dc1a-25b8-44d7-9277-e8900f21fe6b"
      },
      "execution_count": null,
      "outputs": [
        {
          "output_type": "execute_result",
          "data": {
            "text/plain": [
              "tensor([-9., -8., -7.])"
            ]
          },
          "metadata": {},
          "execution_count": 93
        }
      ]
    },
    {
      "cell_type": "code",
      "source": [
        "#we can assign a tensor\n",
        "tensor = tensor - 10\n",
        "tensor"
      ],
      "metadata": {
        "colab": {
          "base_uri": "https://localhost:8080/"
        },
        "id": "QLYpiebZRceP",
        "outputId": "6cb1508f-957a-42b7-dfed-c7acc8cad4b3"
      },
      "execution_count": null,
      "outputs": [
        {
          "output_type": "execute_result",
          "data": {
            "text/plain": [
              "tensor([-9., -8., -7.])"
            ]
          },
          "metadata": {},
          "execution_count": 94
        }
      ]
    },
    {
      "cell_type": "code",
      "source": [
        "tensor = tensor + 10\n",
        "tensor"
      ],
      "metadata": {
        "colab": {
          "base_uri": "https://localhost:8080/"
        },
        "id": "XOYcozW3Rkte",
        "outputId": "2fce6415-8562-4a0f-fd89-fb9b2b14c784"
      },
      "execution_count": null,
      "outputs": [
        {
          "output_type": "execute_result",
          "data": {
            "text/plain": [
              "tensor([1., 2., 3.])"
            ]
          },
          "metadata": {},
          "execution_count": 95
        }
      ]
    },
    {
      "cell_type": "code",
      "source": [
        "#can also use for multiplication\n",
        "torch.multiply(tensor,10)"
      ],
      "metadata": {
        "colab": {
          "base_uri": "https://localhost:8080/"
        },
        "id": "wJ5FYz-QLRGG",
        "outputId": "c2dc8425-5a69-47b4-b2c5-8437352dd62f"
      },
      "execution_count": null,
      "outputs": [
        {
          "output_type": "execute_result",
          "data": {
            "text/plain": [
              "tensor([10., 20., 30.])"
            ]
          },
          "metadata": {},
          "execution_count": 96
        }
      ]
    },
    {
      "cell_type": "code",
      "source": [
        "tensor"
      ],
      "metadata": {
        "colab": {
          "base_uri": "https://localhost:8080/"
        },
        "id": "4LdnjAG1Lhsi",
        "outputId": "83d48c06-940b-4c3f-9aa2-37b13df2491f"
      },
      "execution_count": null,
      "outputs": [
        {
          "output_type": "execute_result",
          "data": {
            "text/plain": [
              "tensor([1., 2., 3.])"
            ]
          },
          "metadata": {},
          "execution_count": 97
        }
      ]
    },
    {
      "cell_type": "code",
      "source": [
        "tensor = tensor*tensor\n",
        "tensor"
      ],
      "metadata": {
        "colab": {
          "base_uri": "https://localhost:8080/"
        },
        "id": "EJIRtp3pLx46",
        "outputId": "8708580d-c914-4229-b088-a479d4699e78"
      },
      "execution_count": null,
      "outputs": [
        {
          "output_type": "execute_result",
          "data": {
            "text/plain": [
              "tensor([1., 4., 9.])"
            ]
          },
          "metadata": {},
          "execution_count": 98
        }
      ]
    },
    {
      "cell_type": "markdown",
      "source": [
        "###Matrix multiplication (is all you need)\n",
        "\n",
        "One of the most common operations in machine learning and deep learning algorithms (like neural networks) is matrix multiplication.\n",
        "\n",
        "PyTorch implements matrix multiplication functionality in the torch.matmul() method.\n",
        "\n",
        "The main two rules for matrix multiplication to remember are:\n",
        "\n",
        "    The inner dimensions must match:\n",
        "\n",
        "    (3, 2) @ (3, 2) won't work\n",
        "    (2, 3) @ (3, 2) will work\n",
        "    (3, 2) @ (2, 3) will work\n",
        "\n",
        "    The resulting matrix has the shape of the outer dimensions:\n",
        "\n",
        "    (2, 3) @ (3, 2) -> (2, 2)\n",
        "    (3, 2) @ (2, 3) -> (3, 3)\n",
        "\n",
        "    Note: \"@\" in Python is the symbol for matrix multiplication.\n",
        "\n"
      ],
      "metadata": {
        "id": "Ok_5QxmZMcHL"
      }
    },
    {
      "cell_type": "code",
      "source": [
        "# Element-wise matrix multiplication\n",
        "tensor * tensor"
      ],
      "metadata": {
        "colab": {
          "base_uri": "https://localhost:8080/"
        },
        "id": "vGdnqiW4Mkg3",
        "outputId": "b5b3cf74-7c9c-425b-e122-0713b9b8bf84"
      },
      "execution_count": null,
      "outputs": [
        {
          "output_type": "execute_result",
          "data": {
            "text/plain": [
              "tensor([ 1., 16., 81.])"
            ]
          },
          "metadata": {},
          "execution_count": 99
        }
      ]
    },
    {
      "cell_type": "code",
      "source": [
        "#matrix multiplication\n",
        "torch.matmul(tensor,tensor)"
      ],
      "metadata": {
        "colab": {
          "base_uri": "https://localhost:8080/"
        },
        "id": "h8jIBYwROQ1w",
        "outputId": "29019d2c-a05e-421b-c1b7-9cd9381e855e"
      },
      "execution_count": null,
      "outputs": [
        {
          "output_type": "execute_result",
          "data": {
            "text/plain": [
              "tensor(98.)"
            ]
          },
          "metadata": {},
          "execution_count": 100
        }
      ]
    },
    {
      "cell_type": "code",
      "source": [
        "#matrix multiplication in another way\n",
        "tensor @ tensor\n"
      ],
      "metadata": {
        "id": "ndVTjUTyObnv",
        "colab": {
          "base_uri": "https://localhost:8080/"
        },
        "outputId": "03ab2210-71ac-4cbf-b354-3a91fc519410"
      },
      "execution_count": null,
      "outputs": [
        {
          "output_type": "execute_result",
          "data": {
            "text/plain": [
              "tensor(98.)"
            ]
          },
          "metadata": {},
          "execution_count": 101
        }
      ]
    },
    {
      "cell_type": "code",
      "source": [
        "%%time\n",
        "tensor @ tensor"
      ],
      "metadata": {
        "colab": {
          "base_uri": "https://localhost:8080/"
        },
        "id": "E6cRH9tQQKr-",
        "outputId": "84821dcd-b6c5-4f95-830e-b79ca0bd31b0"
      },
      "execution_count": null,
      "outputs": [
        {
          "output_type": "stream",
          "name": "stdout",
          "text": [
            "CPU times: user 143 µs, sys: 0 ns, total: 143 µs\n",
            "Wall time: 147 µs\n"
          ]
        },
        {
          "output_type": "execute_result",
          "data": {
            "text/plain": [
              "tensor(98.)"
            ]
          },
          "metadata": {},
          "execution_count": 102
        }
      ]
    },
    {
      "cell_type": "code",
      "source": [
        "%%time\n",
        "torch.matmul(tensor,tensor)"
      ],
      "metadata": {
        "colab": {
          "base_uri": "https://localhost:8080/"
        },
        "id": "fi0QiipBQwhN",
        "outputId": "9cdbf7cb-2669-4166-b9c5-a8713a9a6a2c"
      },
      "execution_count": null,
      "outputs": [
        {
          "output_type": "stream",
          "name": "stdout",
          "text": [
            "CPU times: user 202 µs, sys: 0 ns, total: 202 µs\n",
            "Wall time: 207 µs\n"
          ]
        },
        {
          "output_type": "execute_result",
          "data": {
            "text/plain": [
              "tensor(98.)"
            ]
          },
          "metadata": {},
          "execution_count": 103
        }
      ]
    },
    {
      "cell_type": "code",
      "source": [
        "# Shapes need to be in the right way\n",
        "tensor_A = torch.tensor([[1, 2],\n",
        "                         [3, 4],\n",
        "                         [5, 6]], dtype=torch.float32)\n",
        "\n",
        "tensor_B = torch.tensor([[7, 10],\n",
        "                         [8, 11],\n",
        "                         [9, 12]], dtype=torch.float32)\n",
        "\n",
        "# To fix this, we can transpose one of the tensors.\n",
        "# For example, transposing tensor_B will change its shape from (3, 2) to (2, 3).\n",
        "# Then, the matrix multiplication will be (3, 2) @ (2, 3) which results in a (3, 3) tensor.\n",
        "torch.matmul(tensor_A, tensor_B.T)"
      ],
      "metadata": {
        "colab": {
          "base_uri": "https://localhost:8080/"
        },
        "id": "uR1uxucfRVK9",
        "outputId": "75665c71-f574-4f1f-b376-d9853b3112ab"
      },
      "execution_count": null,
      "outputs": [
        {
          "output_type": "execute_result",
          "data": {
            "text/plain": [
              "tensor([[ 27.,  30.,  33.],\n",
              "        [ 61.,  68.,  75.],\n",
              "        [ 95., 106., 117.]])"
            ]
          },
          "metadata": {},
          "execution_count": 104
        }
      ]
    },
    {
      "cell_type": "markdown",
      "source": [
        "###Data Type\n"
      ],
      "metadata": {
        "id": "RrrPkUCfmLHd"
      }
    },
    {
      "cell_type": "code",
      "source": [
        "#Float 32 tensor\n",
        "float_32_tensor = torch.tensor([3,6,9],\n",
        "                               dtype = torch.float64,\n",
        "                               device = None,# what device you are on\n",
        "                               requires_grad = False)# wheather or not to track gradient\n",
        "\n",
        "float_32_tensor.dtype\n"
      ],
      "metadata": {
        "colab": {
          "base_uri": "https://localhost:8080/"
        },
        "id": "QcavzJo-TOWc",
        "outputId": "6203563e-f10d-4df2-9837-634a1d483eb7"
      },
      "execution_count": null,
      "outputs": [
        {
          "output_type": "execute_result",
          "data": {
            "text/plain": [
              "torch.float64"
            ]
          },
          "metadata": {},
          "execution_count": 105
        }
      ]
    },
    {
      "cell_type": "code",
      "source": [
        "# 16 bit\n",
        "float_16_tensor = float_32_tensor.type(torch.float16)\n",
        "float_16_tensor"
      ],
      "metadata": {
        "colab": {
          "base_uri": "https://localhost:8080/"
        },
        "id": "Wr64LZMoTOTh",
        "outputId": "9f7cac0e-7e5a-4339-b570-14e6d22e17fb"
      },
      "execution_count": null,
      "outputs": [
        {
          "output_type": "execute_result",
          "data": {
            "text/plain": [
              "tensor([3., 6., 9.], dtype=torch.float16)"
            ]
          },
          "metadata": {},
          "execution_count": 106
        }
      ]
    },
    {
      "cell_type": "code",
      "source": [
        "float_16_tensor * float_32_tensor"
      ],
      "metadata": {
        "colab": {
          "base_uri": "https://localhost:8080/"
        },
        "id": "PiFE9PBxuSvU",
        "outputId": "e5c2cf13-f51a-416f-b45c-0f46d88f12fe"
      },
      "execution_count": null,
      "outputs": [
        {
          "output_type": "execute_result",
          "data": {
            "text/plain": [
              "tensor([ 9., 36., 81.], dtype=torch.float64)"
            ]
          },
          "metadata": {},
          "execution_count": 107
        }
      ]
    },
    {
      "cell_type": "markdown",
      "source": [
        "###Tensor Attributes(Information About Tensor)"
      ],
      "metadata": {
        "id": "M0cg1i-kvYcL"
      }
    },
    {
      "cell_type": "code",
      "source": [
        "ten = torch.rand(1,3)\n",
        "ten"
      ],
      "metadata": {
        "colab": {
          "base_uri": "https://localhost:8080/"
        },
        "id": "T7syzfT2vRp2",
        "outputId": "19616d9a-dc19-4cc0-b807-6c76ccc0bb73"
      },
      "execution_count": null,
      "outputs": [
        {
          "output_type": "execute_result",
          "data": {
            "text/plain": [
              "tensor([[0.8785, 0.5515, 0.0243]])"
            ]
          },
          "metadata": {},
          "execution_count": 108
        }
      ]
    },
    {
      "cell_type": "code",
      "source": [
        "#find out details\n",
        "print(ten.dtype)\n",
        "\n",
        "print(ten.shape)\n",
        "print(ten.size())\n",
        "print(ten.device)"
      ],
      "metadata": {
        "colab": {
          "base_uri": "https://localhost:8080/"
        },
        "id": "ZC_K7VYcvqDs",
        "outputId": "6d652c31-e31e-4906-b002-f2c8e8d62d9e"
      },
      "execution_count": null,
      "outputs": [
        {
          "output_type": "stream",
          "name": "stdout",
          "text": [
            "torch.float32\n",
            "torch.Size([1, 3])\n",
            "torch.Size([1, 3])\n",
            "cpu\n"
          ]
        }
      ]
    },
    {
      "cell_type": "markdown",
      "source": [
        "###Tensor Aggrigation\n"
      ],
      "metadata": {
        "id": "lg4yLZ2qsEYc"
      }
    },
    {
      "cell_type": "code",
      "source": [
        "x = torch.arange(0.0,100.0,10)\n",
        "print(x)\n",
        "print(torch.mean(x))\n",
        "print(torch.max(x))\n",
        "print(torch.min(x))"
      ],
      "metadata": {
        "colab": {
          "base_uri": "https://localhost:8080/"
        },
        "id": "sjQGMVixsIYq",
        "outputId": "822b7769-7645-4092-e17c-a0f51113355a"
      },
      "execution_count": null,
      "outputs": [
        {
          "output_type": "stream",
          "name": "stdout",
          "text": [
            "tensor([ 0., 10., 20., 30., 40., 50., 60., 70., 80., 90.])\n",
            "tensor(45.)\n",
            "tensor(90.)\n",
            "tensor(0.)\n"
          ]
        }
      ]
    },
    {
      "cell_type": "markdown",
      "source": [
        "### Finding the positional Min max"
      ],
      "metadata": {
        "id": "2Mkaieovt_4s"
      }
    },
    {
      "cell_type": "code",
      "source": [
        "# find the possiton of tensor which have the minimum value\n",
        "torch.argmax(x)\n",
        "torch.argmin(x)\n",
        "torch.argsort(x)"
      ],
      "metadata": {
        "colab": {
          "base_uri": "https://localhost:8080/"
        },
        "id": "cZzTec5suJMq",
        "outputId": "d5b1546d-00bf-43c3-9a02-e1c6e508b0d4"
      },
      "execution_count": null,
      "outputs": [
        {
          "output_type": "execute_result",
          "data": {
            "text/plain": [
              "tensor([0, 1, 2, 3, 4, 5, 6, 7, 8, 9])"
            ]
          },
          "metadata": {},
          "execution_count": 111
        }
      ]
    },
    {
      "cell_type": "markdown",
      "source": [
        "###Reshape,vewing,stacking,squeezing,unsqueezing\n"
      ],
      "metadata": {
        "id": "htT68-iYvM9p"
      }
    },
    {
      "cell_type": "code",
      "source": [
        "tensor1 = torch.arange(1,11,1)\n",
        "tensor1,tensor1.shape"
      ],
      "metadata": {
        "colab": {
          "base_uri": "https://localhost:8080/"
        },
        "id": "bkqeSXpgvMgQ",
        "outputId": "b1f91e34-daed-4f2b-9527-2fc4f66450bc"
      },
      "execution_count": null,
      "outputs": [
        {
          "output_type": "execute_result",
          "data": {
            "text/plain": [
              "(tensor([ 1,  2,  3,  4,  5,  6,  7,  8,  9, 10]), torch.Size([10]))"
            ]
          },
          "metadata": {},
          "execution_count": 112
        }
      ]
    },
    {
      "cell_type": "code",
      "source": [
        "reshape = tensor1.reshape(2,5)\n",
        "reshape"
      ],
      "metadata": {
        "colab": {
          "base_uri": "https://localhost:8080/"
        },
        "id": "HAzv4BX32qfe",
        "outputId": "a18d8f0c-f463-418b-80c7-4a79b93546ed"
      },
      "execution_count": null,
      "outputs": [
        {
          "output_type": "execute_result",
          "data": {
            "text/plain": [
              "tensor([[ 1,  2,  3,  4,  5],\n",
              "        [ 6,  7,  8,  9, 10]])"
            ]
          },
          "metadata": {},
          "execution_count": 113
        }
      ]
    },
    {
      "cell_type": "markdown",
      "source": [
        "reshape is parmanent and view is temporary"
      ],
      "metadata": {
        "id": "WHVYV5-C4STP"
      }
    },
    {
      "cell_type": "code",
      "source": [
        "#change the view\n",
        "z= tensor1.view(5,2)\n",
        "z,z.shape"
      ],
      "metadata": {
        "colab": {
          "base_uri": "https://localhost:8080/"
        },
        "id": "twzOrAkO35-_",
        "outputId": "b6fd3540-422c-40f6-c8fa-6ea399a15a1e"
      },
      "execution_count": null,
      "outputs": [
        {
          "output_type": "execute_result",
          "data": {
            "text/plain": [
              "(tensor([[ 1,  2],\n",
              "         [ 3,  4],\n",
              "         [ 5,  6],\n",
              "         [ 7,  8],\n",
              "         [ 9, 10]]),\n",
              " torch.Size([5, 2]))"
            ]
          },
          "metadata": {},
          "execution_count": 114
        }
      ]
    },
    {
      "cell_type": "code",
      "source": [
        "#stacking x for 4 times\n",
        "x_stack = torch.stack((tensor1, tensor1, tensor1, tensor1))\n",
        "x_stack"
      ],
      "metadata": {
        "colab": {
          "base_uri": "https://localhost:8080/"
        },
        "id": "OeRQf2Kx4ZQg",
        "outputId": "2d412a6d-9e09-4bb5-d8a3-d3b8ef2e0c04"
      },
      "execution_count": null,
      "outputs": [
        {
          "output_type": "execute_result",
          "data": {
            "text/plain": [
              "tensor([[ 1,  2,  3,  4,  5,  6,  7,  8,  9, 10],\n",
              "        [ 1,  2,  3,  4,  5,  6,  7,  8,  9, 10],\n",
              "        [ 1,  2,  3,  4,  5,  6,  7,  8,  9, 10],\n",
              "        [ 1,  2,  3,  4,  5,  6,  7,  8,  9, 10]])"
            ]
          },
          "metadata": {},
          "execution_count": 115
        }
      ]
    },
    {
      "cell_type": "code",
      "source": [
        "x_stack.shape"
      ],
      "metadata": {
        "colab": {
          "base_uri": "https://localhost:8080/"
        },
        "id": "5ed6i7uG_XwV",
        "outputId": "66f9bda0-2921-4d1c-817b-cb6dbac8b489"
      },
      "execution_count": null,
      "outputs": [
        {
          "output_type": "execute_result",
          "data": {
            "text/plain": [
              "torch.Size([4, 10])"
            ]
          },
          "metadata": {},
          "execution_count": 116
        }
      ]
    },
    {
      "cell_type": "code",
      "source": [
        "tensor1.shape"
      ],
      "metadata": {
        "colab": {
          "base_uri": "https://localhost:8080/"
        },
        "id": "IbGDUyVx_cZY",
        "outputId": "d0397c2e-18d9-4d83-9589-f10ba1e4ed9d"
      },
      "execution_count": null,
      "outputs": [
        {
          "output_type": "execute_result",
          "data": {
            "text/plain": [
              "torch.Size([10])"
            ]
          },
          "metadata": {},
          "execution_count": 117
        }
      ]
    },
    {
      "cell_type": "code",
      "source": [
        "tensor1.size()"
      ],
      "metadata": {
        "colab": {
          "base_uri": "https://localhost:8080/"
        },
        "id": "JJblAPtn_k7v",
        "outputId": "ffac54b6-d74c-4529-b52a-ac8c37554fd7"
      },
      "execution_count": null,
      "outputs": [
        {
          "output_type": "execute_result",
          "data": {
            "text/plain": [
              "torch.Size([10])"
            ]
          },
          "metadata": {},
          "execution_count": 118
        }
      ]
    },
    {
      "cell_type": "code",
      "source": [
        "tensor1 = tensor1.reshape(1,10)"
      ],
      "metadata": {
        "id": "6nsaJBVT_orf"
      },
      "execution_count": null,
      "outputs": []
    },
    {
      "cell_type": "code",
      "source": [
        "tensor1"
      ],
      "metadata": {
        "colab": {
          "base_uri": "https://localhost:8080/"
        },
        "id": "Ez5ar_teAOjg",
        "outputId": "560a0d17-e58a-4dfc-e038-ec0b6bf65db8"
      },
      "execution_count": null,
      "outputs": [
        {
          "output_type": "execute_result",
          "data": {
            "text/plain": [
              "tensor([[ 1,  2,  3,  4,  5,  6,  7,  8,  9, 10]])"
            ]
          },
          "metadata": {},
          "execution_count": 120
        }
      ]
    },
    {
      "cell_type": "code",
      "source": [
        "tensor1.shape"
      ],
      "metadata": {
        "colab": {
          "base_uri": "https://localhost:8080/"
        },
        "id": "P-aqYyIF_usI",
        "outputId": "431c293a-12a3-4565-c46c-a304e523d4d2"
      },
      "execution_count": null,
      "outputs": [
        {
          "output_type": "execute_result",
          "data": {
            "text/plain": [
              "torch.Size([1, 10])"
            ]
          },
          "metadata": {},
          "execution_count": 121
        }
      ]
    },
    {
      "cell_type": "code",
      "source": [
        "#Squeeze operation\n",
        "squeeze = torch.squeeze(tensor1)\n",
        "squeeze.shape"
      ],
      "metadata": {
        "colab": {
          "base_uri": "https://localhost:8080/"
        },
        "id": "2nBPj5E4_w3Q",
        "outputId": "072bd4b8-612f-49fa-e83d-71ff82f43e6d"
      },
      "execution_count": null,
      "outputs": [
        {
          "output_type": "execute_result",
          "data": {
            "text/plain": [
              "torch.Size([10])"
            ]
          },
          "metadata": {},
          "execution_count": 122
        }
      ]
    },
    {
      "cell_type": "code",
      "source": [
        "#unsqueeze\n",
        "unsqueeze  = torch.unsqueeze(squeeze, dim=0)\n",
        "unsqueeze.shape"
      ],
      "metadata": {
        "colab": {
          "base_uri": "https://localhost:8080/"
        },
        "id": "cANHp-OoAeKU",
        "outputId": "613e6007-380c-44e6-ad0a-ea20e8a7870c"
      },
      "execution_count": null,
      "outputs": [
        {
          "output_type": "execute_result",
          "data": {
            "text/plain": [
              "torch.Size([1, 10])"
            ]
          },
          "metadata": {},
          "execution_count": 123
        }
      ]
    },
    {
      "cell_type": "code",
      "source": [
        "#premute rearrange the dimnetion\n",
        "x_org = torch.rand(size = (255,255,3))\n",
        "x_premute = x_org.permute(2,1,0)\n",
        "print(x_org.shape)\n",
        "print(x_premute.shape)"
      ],
      "metadata": {
        "colab": {
          "base_uri": "https://localhost:8080/"
        },
        "id": "bmS04YGZSRen",
        "outputId": "a0c78da0-5789-4614-bcb9-cc6ce349e97e"
      },
      "execution_count": null,
      "outputs": [
        {
          "output_type": "stream",
          "name": "stdout",
          "text": [
            "torch.Size([255, 255, 3])\n",
            "torch.Size([3, 255, 255])\n"
          ]
        }
      ]
    },
    {
      "cell_type": "markdown",
      "source": [
        "###Indexing"
      ],
      "metadata": {
        "id": "nFv7jAds6dcR"
      }
    },
    {
      "cell_type": "code",
      "source": [
        "torch2 = torch.arange(1,10).reshape(1,3,3)\n",
        "torch2,torch2.shape"
      ],
      "metadata": {
        "colab": {
          "base_uri": "https://localhost:8080/"
        },
        "id": "cKUAuRGl6f2a",
        "outputId": "baa3eb03-8a57-444a-b2da-6f122030d597"
      },
      "execution_count": null,
      "outputs": [
        {
          "output_type": "execute_result",
          "data": {
            "text/plain": [
              "(tensor([[[1, 2, 3],\n",
              "          [4, 5, 6],\n",
              "          [7, 8, 9]]]),\n",
              " torch.Size([1, 3, 3]))"
            ]
          },
          "metadata": {},
          "execution_count": 125
        }
      ]
    },
    {
      "cell_type": "code",
      "source": [
        "#index a tensor\n",
        "print(torch2[0])\n",
        "print(torch2[0][0][0])\n",
        "print(torch2[0][1][2])"
      ],
      "metadata": {
        "colab": {
          "base_uri": "https://localhost:8080/"
        },
        "id": "lB0_BVnp8JZz",
        "outputId": "1e3e51cb-81be-47b3-fdfd-3dbaef6b5a25"
      },
      "execution_count": null,
      "outputs": [
        {
          "output_type": "stream",
          "name": "stdout",
          "text": [
            "tensor([[1, 2, 3],\n",
            "        [4, 5, 6],\n",
            "        [7, 8, 9]])\n",
            "tensor(1)\n",
            "tensor(6)\n"
          ]
        }
      ]
    },
    {
      "cell_type": "code",
      "source": [
        "print(torch2[0][2][2])\n",
        "print(torch2[:,2,2])"
      ],
      "metadata": {
        "colab": {
          "base_uri": "https://localhost:8080/"
        },
        "id": "lbVsaeiA_MNm",
        "outputId": "0e483053-f636-410c-97de-3b282cb16fb9"
      },
      "execution_count": null,
      "outputs": [
        {
          "output_type": "stream",
          "name": "stdout",
          "text": [
            "tensor(9)\n",
            "tensor([9])\n"
          ]
        }
      ]
    },
    {
      "cell_type": "markdown",
      "source": [
        "###pytorch and pytorch"
      ],
      "metadata": {
        "id": "eTnpkrcmHFXn"
      }
    },
    {
      "cell_type": "code",
      "source": [
        "import torch\n",
        "import numpy as np\n",
        "array = np.arange(1.0,8.0)\n",
        "# Convert the Python list to a NumPy array\n",
        "numpy_array = np.array(array)\n",
        "# Create a PyTorch tensor from the NumPy array\n",
        "trc = torch.from_numpy(numpy_array)\n",
        "trc"
      ],
      "metadata": {
        "colab": {
          "base_uri": "https://localhost:8080/"
        },
        "id": "h0R-7sDYHKkO",
        "outputId": "ccc95f81-9913-47b7-a244-df44b71dc9d5"
      },
      "execution_count": null,
      "outputs": [
        {
          "output_type": "execute_result",
          "data": {
            "text/plain": [
              "tensor([1., 2., 3., 4., 5., 6., 7.], dtype=torch.float64)"
            ]
          },
          "metadata": {},
          "execution_count": 128
        }
      ]
    },
    {
      "cell_type": "code",
      "source": [
        "#numpy to tensor\n",
        "array1 = np.arange(1,10)\n",
        "array1 = np.array(array1)\n",
        "ar = torch.from_numpy(array1)\n",
        "ar"
      ],
      "metadata": {
        "colab": {
          "base_uri": "https://localhost:8080/"
        },
        "id": "rpevH70gwbre",
        "outputId": "af5abac2-edd5-45a6-bc6e-4ae92ca87fbf"
      },
      "execution_count": null,
      "outputs": [
        {
          "output_type": "execute_result",
          "data": {
            "text/plain": [
              "tensor([1, 2, 3, 4, 5, 6, 7, 8, 9])"
            ]
          },
          "metadata": {},
          "execution_count": 129
        }
      ]
    },
    {
      "cell_type": "code",
      "source": [
        "#Tensor to Numpy\n",
        "tensor3 = torch.arange(1,10)\n",
        "num = torch.Tensor.numpy(tensor3)\n",
        "num"
      ],
      "metadata": {
        "colab": {
          "base_uri": "https://localhost:8080/"
        },
        "id": "DInRL2dSw6ry",
        "outputId": "040faee3-16c0-4ec4-bdc7-5fb4d70abfe2"
      },
      "execution_count": null,
      "outputs": [
        {
          "output_type": "execute_result",
          "data": {
            "text/plain": [
              "array([1, 2, 3, 4, 5, 6, 7, 8, 9])"
            ]
          },
          "metadata": {},
          "execution_count": 130
        }
      ]
    },
    {
      "cell_type": "code",
      "source": [],
      "metadata": {
        "id": "Lq4jm5B5xPMU"
      },
      "execution_count": null,
      "outputs": []
    },
    {
      "cell_type": "markdown",
      "source": [
        "###Reproducbility(Take random out of random)\n",
        "\n",
        "\n",
        "As you learn more about neural networks and machine learning, you'll start to discover how much randomness plays a part.\n",
        "\n",
        "Well, pseudorandomness that is. Because after all, as they're designed, a computer is fundamentally deterministic (each step is predictable) so the randomness they create are simulated randomness (though there is debate on this too, but since I'm not a computer scientist, I'll let you find out more yourself).\n",
        "\n",
        "How does this relate to neural networks and deep learning then?\n",
        "\n",
        "We've discussed neural networks start with random numbers to describe patterns in data (these numbers are poor descriptions) and try to improve those random numbers using tensor operations (and a few other things we haven't discussed yet) to better describe patterns in data.\n",
        "\n",
        "In short:\n",
        "\n",
        "start with random numbers -> tensor operations -> try to make better (again and again and again)\n",
        "\n",
        "Although randomness is nice and powerful, sometimes you'd like there to be a little less randomness.\n",
        "\n",
        "Why?\n",
        "\n",
        "So you can perform repeatable experiments.\n",
        "\n",
        "For example, you create an algorithm capable of achieving X performance.\n",
        "\n",
        "And then your friend tries it out to verify you're not crazy.\n",
        "\n",
        "How could they do such a thing?\n",
        "\n",
        "That's where reproducibility comes in.\n",
        "\n",
        "In other words, can you get the same (or very similar) results on your computer running the same code as I get on mine?"
      ],
      "metadata": {
        "id": "A1T5vxmuzXGf"
      }
    },
    {
      "cell_type": "code",
      "source": [
        "rand_tensor_a = torch.rand(1,5)\n",
        "rand_tensor_b = torch.rand(1,5)\n",
        "print(rand_tensor_a)\n",
        "print(rand_tensor_b)\n",
        "rand_tensor_a == rand_tensor_b"
      ],
      "metadata": {
        "colab": {
          "base_uri": "https://localhost:8080/"
        },
        "id": "aNPApagfzWwn",
        "outputId": "1989f131-b37c-4e92-b096-afb77302799f"
      },
      "execution_count": null,
      "outputs": [
        {
          "output_type": "stream",
          "name": "stdout",
          "text": [
            "tensor([[0.2258, 0.2182, 0.0888, 0.8046, 0.1130]])\n",
            "tensor([[0.2947, 0.2310, 0.2256, 0.6977, 0.0947]])\n"
          ]
        },
        {
          "output_type": "execute_result",
          "data": {
            "text/plain": [
              "tensor([[False, False, False, False, False]])"
            ]
          },
          "metadata": {},
          "execution_count": 131
        }
      ]
    },
    {
      "cell_type": "code",
      "source": [
        "#making some random tensor which can be reproduce\n",
        "RANDOM_SEED = 42\n",
        "torch.manual_seed(RANDOM_SEED)\n",
        "tensor_c = torch.rand(3,4)\n",
        "torch.manual_seed(RANDOM_SEED)\n",
        "tensor_d = torch.rand(3,4)\n",
        "print(tensor_c)\n",
        "print(tensor_d)\n",
        "print(tensor_c == tensor_d)"
      ],
      "metadata": {
        "colab": {
          "base_uri": "https://localhost:8080/"
        },
        "id": "2X7c8hgA3j5E",
        "outputId": "4f55b4b4-ff90-49be-abdf-241ccbd39f7c"
      },
      "execution_count": null,
      "outputs": [
        {
          "output_type": "stream",
          "name": "stdout",
          "text": [
            "tensor([[0.8823, 0.9150, 0.3829, 0.9593],\n",
            "        [0.3904, 0.6009, 0.2566, 0.7936],\n",
            "        [0.9408, 0.1332, 0.9346, 0.5936]])\n",
            "tensor([[0.8823, 0.9150, 0.3829, 0.9593],\n",
            "        [0.3904, 0.6009, 0.2566, 0.7936],\n",
            "        [0.9408, 0.1332, 0.9346, 0.5936]])\n",
            "tensor([[True, True, True, True],\n",
            "        [True, True, True, True],\n",
            "        [True, True, True, True]])\n"
          ]
        }
      ]
    },
    {
      "cell_type": "markdown",
      "source": [
        "###Accessing GPU"
      ],
      "metadata": {
        "id": "IgxB2UB_FgC4"
      }
    },
    {
      "cell_type": "code",
      "source": [
        "!nvidia-smi"
      ],
      "metadata": {
        "colab": {
          "base_uri": "https://localhost:8080/"
        },
        "id": "ighY5AhrFfVZ",
        "outputId": "63d66cb3-8017-4f15-9e45-268dc7f4835d"
      },
      "execution_count": null,
      "outputs": [
        {
          "output_type": "stream",
          "name": "stdout",
          "text": [
            "/bin/bash: line 1: nvidia-smi: command not found\n"
          ]
        }
      ]
    },
    {
      "cell_type": "code",
      "source": [
        "# Set device type\n",
        "device = \"cuda\" if torch.cuda.is_available() else \"cpu\"\n",
        "device"
      ],
      "metadata": {
        "colab": {
          "base_uri": "https://localhost:8080/",
          "height": 35
        },
        "id": "y_i7ygmeYtK3",
        "outputId": "76e3e6b0-383e-4124-d2d3-57037d64fb8c"
      },
      "execution_count": null,
      "outputs": [
        {
          "output_type": "execute_result",
          "data": {
            "text/plain": [
              "'cpu'"
            ],
            "application/vnd.google.colaboratory.intrinsic+json": {
              "type": "string"
            }
          },
          "metadata": {},
          "execution_count": 137
        }
      ]
    },
    {
      "cell_type": "code",
      "source": [
        "# Create tensor (default on CPU)\n",
        "tensor = torch.tensor([1, 2, 3])\n",
        "\n",
        "# Tensor not on GPU\n",
        "print(tensor, tensor.device)\n",
        "\n",
        "# Move tensor to GPU (if available)\n",
        "tensor_on_gpu = tensor.to(device)\n",
        "tensor_on_gpu"
      ],
      "metadata": {
        "colab": {
          "base_uri": "https://localhost:8080/"
        },
        "id": "VfPUEYlMZIGz",
        "outputId": "cfd5c6be-e809-46a3-f4df-89e34e0f7a91"
      },
      "execution_count": null,
      "outputs": [
        {
          "output_type": "stream",
          "name": "stdout",
          "text": [
            "tensor([1, 2, 3]) cpu\n"
          ]
        },
        {
          "output_type": "execute_result",
          "data": {
            "text/plain": [
              "tensor([1, 2, 3])"
            ]
          },
          "metadata": {},
          "execution_count": 138
        }
      ]
    }
  ]
}